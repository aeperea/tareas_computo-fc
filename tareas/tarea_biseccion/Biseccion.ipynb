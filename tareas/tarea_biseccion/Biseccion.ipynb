{
 "metadata": {
  "name": ""
 },
 "nbformat": 3,
 "nbformat_minor": 0,
 "worksheets": [
  {
   "cells": [
    {
     "cell_type": "code",
     "collapsed": false,
     "input": [
      "from intervalo import *"
     ],
     "language": "python",
     "metadata": {},
     "outputs": [],
     "prompt_number": 1
    },
    {
     "cell_type": "code",
     "collapsed": false,
     "input": [
      "# Funciones de prueba usadas por LauraMA\n",
      "def identidad(x) :\n",
      "    return x\n",
      "\n",
      "def cte2(x) :\n",
      "    return Intervalo(2)\n",
      "    \n",
      "def g(x) :\n",
      "    return x*x - 1\n",
      "    \n",
      "def h(x) :\n",
      "    return x*x*x - 3*x*x + 2*x"
     ],
     "language": "python",
     "metadata": {},
     "outputs": [],
     "prompt_number": 2
    },
    {
     "cell_type": "code",
     "collapsed": false,
     "input": [
      "# Funci\u00f3n de prueba para mis tests j(x)\n",
      "# x = 1\n",
      "# x = 2\n",
      "# x = 1/2(3 - sqrt(3))\n",
      "# x = 1/2(3 + sqrt(3))\n",
      "\n",
      "def j(x) :\n",
      "    return x*(x*(x*(2*x - 12) + 25) - 21) + 6 "
     ],
     "language": "python",
     "metadata": {},
     "outputs": [],
     "prompt_number": 3
    },
    {
     "cell_type": "code",
     "collapsed": false,
     "input": [
      "def met_biseccion(x, f, n) :\n",
      "    \"\"\"\n",
      "    Este m\u00e9todo, a diferencia de otros m\u00e1s elegantes, no hace uso de un valor de tolerancia, sino m\u00e1s bien se le da\n",
      "    una cantidad finita de pasos para dividir el Intervalo. Esto conlleva a que pueden darse dos micro_intervalos consecutivos que\n",
      "    contengan el mismo cero. Para esto fue necesario analizar si el cero anterior enlistado est\u00e1 a una distancia menor o igual a\n",
      "    la del epsilon producto del step. \n",
      "    \"\"\"\n",
      "    # x - intervalo\n",
      "    # f - funci\u00f3n\n",
      "    # n - steps\n",
      "    \n",
      "    epsilon = float(x.hi - x.lo)/n\n",
      "    current_x = x.lo\n",
      "    posibles_ceros = []\n",
      "    \n",
      "    for i in range(1, n) :\n",
      "        micro_intervalo = Intervalo(current_x, current_x + epsilon)\n",
      "        current_x += epsilon\n",
      "        \n",
      "        this_y = f(micro_intervalo)\n",
      "        if i == 1 :\n",
      "            y_final = this_y\n",
      "        else:\n",
      "            y_final = Intervalo.hull(y_final, this_y)\n",
      "        if 0 in this_y and (this_y.lo * this_y.hi < 0) :\n",
      "            if posibles_ceros == [] :\n",
      "                posibles_ceros.append(micro_intervalo)\n",
      "            elif micro_intervalo.lo - posibles_ceros[-1].hi <= epsilon :\n",
      "                posibles_ceros[-1].hi = micro_intervalo.hi\n",
      "            else :\n",
      "                posibles_ceros.append(micro_intervalo)\n",
      "            \n",
      "    return posibles_ceros"
     ],
     "language": "python",
     "metadata": {},
     "outputs": [],
     "prompt_number": 4
    },
    {
     "cell_type": "code",
     "collapsed": false,
     "input": [
      "I = Intervalo(-1, 5)"
     ],
     "language": "python",
     "metadata": {},
     "outputs": [],
     "prompt_number": 5
    },
    {
     "cell_type": "markdown",
     "metadata": {},
     "source": [
      "Usando las funciones que usaron **LauraMA** para sus pruebas:"
     ]
    },
    {
     "cell_type": "code",
     "collapsed": false,
     "input": [
      "met_biseccion(I, identidad, 1000)"
     ],
     "language": "python",
     "metadata": {},
     "outputs": [
      {
       "metadata": {},
       "output_type": "pyout",
       "prompt_number": 6,
       "text": [
        "[Intervalo [-0.004,0.002]]"
       ]
      }
     ],
     "prompt_number": 6
    },
    {
     "cell_type": "code",
     "collapsed": false,
     "input": [
      "met_biseccion(I, cte2, 1000)"
     ],
     "language": "python",
     "metadata": {},
     "outputs": [
      {
       "metadata": {},
       "output_type": "pyout",
       "prompt_number": 7,
       "text": [
        "[]"
       ]
      }
     ],
     "prompt_number": 7
    },
    {
     "cell_type": "code",
     "collapsed": false,
     "input": [
      "met_biseccion(I, g, 1000)"
     ],
     "language": "python",
     "metadata": {},
     "outputs": [
      {
       "metadata": {},
       "output_type": "pyout",
       "prompt_number": 8,
       "text": [
        "[Intervalo [0.998,1.004]]"
       ]
      }
     ],
     "prompt_number": 8
    },
    {
     "cell_type": "code",
     "collapsed": false,
     "input": [
      "met_biseccion(I, h, 1000)"
     ],
     "language": "python",
     "metadata": {},
     "outputs": [
      {
       "metadata": {},
       "output_type": "pyout",
       "prompt_number": 9,
       "text": [
        "[Intervalo [-0.004,0.002], Intervalo [0.968,1.034], Intervalo [1.958,2.036]]"
       ]
      }
     ],
     "prompt_number": 9
    },
    {
     "cell_type": "markdown",
     "metadata": {},
     "source": [
      "Como es obvio, si le damos una cantidad de `steps` mayor, los intervalos que contienes los ceros son m\u00e1s estrechos:"
     ]
    },
    {
     "cell_type": "code",
     "collapsed": false,
     "input": [
      "met_biseccion(I, h, 100000)"
     ],
     "language": "python",
     "metadata": {},
     "outputs": [
      {
       "metadata": {},
       "output_type": "pyout",
       "prompt_number": 10,
       "text": [
        "[Intervalo [-4.00000003934e-05,1.99999996066e-05],\n",
        " Intervalo [0.999679999999,1.00034],\n",
        " Intervalo [1.99958,2.00036]]"
       ]
      }
     ],
     "prompt_number": 10
    },
    {
     "cell_type": "markdown",
     "metadata": {},
     "source": [
      "Para finalizar agregu\u00e9 una funci\u00f3n con la que hice mis pruebas que tiene dos ra\u00edces bastante pr\u00f3ximas una a la otra: $j(x) = 2x^4 - 12x^3 + 25 x^2 - 21x + 6$"
     ]
    },
    {
     "cell_type": "code",
     "collapsed": false,
     "input": [
      "met_biseccion(I, j, 1000)"
     ],
     "language": "python",
     "metadata": {},
     "outputs": [
      {
       "metadata": {},
       "output_type": "pyout",
       "prompt_number": 11,
       "text": [
        "[Intervalo [0.596,0.692], Intervalo [0.89,1.1], Intervalo [1.826,2.474]]"
       ]
      }
     ],
     "prompt_number": 11
    },
    {
     "cell_type": "markdown",
     "metadata": {},
     "source": [
      "Lo cual est\u00e1 mal puesto que esta funci\u00f3n tiene cuatro ra\u00edces reales. Veamos con atenci\u00f3n el \u00faltimo elemento de la lista anterior. El intervalo es `[1.826, 2.476]`, \u00e9ste es mucho m\u00e1s largo que los otros intervalos donde se encuentran las ra\u00edces. Esto significa que la **grid** no es suficientemente fina como para poder identificar que hay realmente dos ra\u00edces en ese intervalo."
     ]
    },
    {
     "cell_type": "code",
     "collapsed": false,
     "input": [
      "met_biseccion(I, j, 100000)"
     ],
     "language": "python",
     "metadata": {},
     "outputs": [
      {
       "metadata": {},
       "output_type": "pyout",
       "prompt_number": 12,
       "text": [
        "[Intervalo [0.6335,0.6344],\n",
        " Intervalo [0.999019999999,1.001],\n",
        " Intervalo [1.99796,2.0021],\n",
        " Intervalo [2.3645,2.36756]]"
       ]
      }
     ],
     "prompt_number": 12
    },
    {
     "cell_type": "markdown",
     "metadata": {},
     "source": [
      "Listo. Todo chido. No es el m\u00e9todo m\u00e1s elegante pero funciona (contrario a algunos c\u00f3digos que hacen uso extensivo de la recursividad, y que a mi m\u00e1quina no le gusta por alguna raz\u00f3n que no acabo de entender)."
     ]
    },
    {
     "cell_type": "code",
     "collapsed": false,
     "input": [],
     "language": "python",
     "metadata": {},
     "outputs": []
    }
   ],
   "metadata": {}
  }
 ]
}