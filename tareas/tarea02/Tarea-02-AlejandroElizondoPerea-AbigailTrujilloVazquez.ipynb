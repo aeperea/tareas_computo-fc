{
 "metadata": {
  "name": ""
 },
 "nbformat": 3,
 "nbformat_minor": 0,
 "worksheets": [
  {
   "cells": [
    {
     "cell_type": "heading",
     "level": 1,
     "metadata": {},
     "source": [
      "Tarea 2: Usando librer\u00edas de python"
     ]
    },
    {
     "cell_type": "markdown",
     "metadata": {},
     "source": [
      "**REGLAS:** (casi id\u00e9nticas a la semana anterior)\n",
      "\n",
      "- Usa Python para llevar a cabo las tareas\n",
      "\n",
      "- S\u00ed se permite el trabajo colaborativo, y de hecho se fomenta, pero se exige el uso de las neuronas de todos los que colaboren. Se vale entregar una sola tarea por grupo de 2 o (si es necesario) 3 personas.\n",
      "\n",
      "- La tarea se entrega como un *notebook* de IPython, y debe incluir notas, comentario y **TODO** lo est\u00e9ticamente necesario, que lo haga entendible para una tercer persona no involucrada en el curso. \n",
      "\n",
      "- Se recomienda usar una versi\u00f3n nueva de este mismo notebook, reemplazando \"[Respuestas aqu\u00ed]\" por tu discusi\u00f3n, c\u00f3digo, y resultados (en los tipos de celda que convengan, y con el n\u00famero de ellos que haga falta).\n",
      "\n",
      "- Cambia el nombre del notebook para reflejar el nombre que escojan para su grupo de trabajo, e.g. \"Tarea-01-profes\"\n",
      "\n",
      "- S\u00fabela a tu cuenta de github y haznos saber la direcci\u00f3n."
     ]
    },
    {
     "cell_type": "markdown",
     "metadata": {},
     "source": [
      "**1.** \n",
      "\n",
      "a. Eval\u00faa la funci\u00f3n racional\n",
      "$$\n",
      "R(x,y)= \\textstyle \\frac{33375}{100} y^6 + x^2 (11 x^2 y^2 - y^6 - 121 y^4 - 2) + \\frac{55}{10}y^8 + \\frac{x}{2 y}\n",
      "$$\n",
      "en los valores (enteros) $x=77617$ y $y=33096$. \n",
      "\n",
      "b. Verifica tu respuesta usando precisi\u00f3n extendida (librer\u00eda `mpmath` de `sympy`), digamos, con 30, 60, y 80 d\u00edgitos.\n",
      "\n",
      "c. Dado que se trata de una funci\u00f3n racional, uno esperar\u00eda que $R(77617,33096)$ sea un valor racional. \u00bfQu\u00e9 valor num\u00e9rico obtienes si utilizas la librer\u00eda `Rational` de `sympy`?\n"
     ]
    },
    {
     "cell_type": "heading",
     "level": 3,
     "metadata": {},
     "source": [
      "Respuesta a problema 1"
     ]
    },
    {
     "cell_type": "markdown",
     "metadata": {},
     "source": [
      "a) Sin agregar librer\u00edas fuera de numpy, la funci\u00f3n evaluada con los valores de $x=77617$ y $y=33096$ es de: **-1.1805916207174113e+21**"
     ]
    },
    {
     "cell_type": "markdown",
     "metadata": {},
     "source": [
      "b) Usando la librer\u00eda de precisi\u00f3n extendida ``mpmath`` podemos ver que el valor cambia bastante entre los 30 y 60 d\u00edgitos de precisi\u00f3n. Esto tiene sentido ya que Python maneja naturalmente hasta 17 d\u00edgitos significativos, y al ser $R(x,y)$ manejar exponentes del orden de $8$ con variables de punto flotante se va perdiendo la informaci\u00f3n de estos d\u00edgitos."
     ]
    },
    {
     "cell_type": "raw",
     "metadata": {},
     "source": [
      "Valor de R(x,y) con 30 digitos de precision  1.1726039400531786318588349045201554867261366425556681325047952979545584639708977\n",
      "Valor de R(x,y) con 60 digitos de precision -0.82739605994682136814116509547981629199903311578438481991781482670558326934533237\n",
      "Valor de R(x,y) con 80 digitos de precision -0.82739605994682136814116509547981629199903311578438481991781484167270969301426154"
     ]
    },
    {
     "cell_type": "markdown",
     "metadata": {},
     "source": [
      "c) Con la librer\u00eda ``Rational`` manejamos el input de la ecuaci\u00f3n manejando todos los coeficientes producto de una divisi\u00f3n como n\u00fameros racionales de la librer\u00eda obteniendo el resultado de: **-54767/66192**, que al ser evaluado aproxima bastante bien el resultado de $R(x,y)$ con 60 y 80 d\u00edgitos de precisi\u00f3n."
     ]
    },
    {
     "cell_type": "heading",
     "level": 3,
     "metadata": {},
     "source": [
      "C\u00f3digo del problema 1"
     ]
    },
    {
     "cell_type": "code",
     "collapsed": false,
     "input": [
      "import numpy as np\n",
      "\n",
      "x = 77617\n",
      "y = 33096\n",
      "\n",
      "R = 33375./100.*y**6 + x**2*(11.*x**2*y**2 - y**6 - 121.*y**4 -2.) + 55./10.*y**8 + x/(2.*y)\n",
      "\n",
      "from sympy.mpmath import *\n",
      "\n",
      "mp.dps = 30\n",
      "x = mpf('77617')\n",
      "y = mpf('33096')\n",
      "R_30 = 33375./100.*y**6 + x**2*(11.*x**2*y**2 - y**6 - 121*y**4 -2.) + 55./10.*y**8 + x/(2.*y)\n",
      "\n",
      "mp.dps = 60\n",
      "x = mpf('77617')\n",
      "y = mpf('33096')\n",
      "R_60 = 33375./100.*y**6 + x**2*(11.*x**2*y**2 - y**6 - 121*y**4 -2.) + 55./10.*y**8 + x/(2.*y)\n",
      "\n",
      "mp.dps = 80\n",
      "x = mpf('77617')\n",
      "y = mpf('33096')\n",
      "R_80 = 33375./100.*y**6 + x**2*(11.*x**2*y**2 - y**6 - 121*y**4 -2.) + 55./10.*y**8 + x/(2.*y)\n",
      "\n",
      "from sympy import Rational, pprint\n",
      "x = Rational(77617)\n",
      "y = Rational(33096)\n",
      "\n",
      "R_Rat = (Rational(33375,100)*y**6 + x**2*(11*x**2*y**2 - y**6 - 121*y**4 -2) + Rational(55,10)*y**8 + x/(Rational(2)*y))\n",
      "\n",
      "print \"Valor de R(x,y) normal de numpy: \", R\n",
      "print \"Valor de R(x,y) con 30 digitos de precision\", R_30\n",
      "print \"Valor de R(x,y) con 60 digitos de precision\", R_60\n",
      "print \"Valor de R(x,y) con 80 digitos de precision\", R_80\n",
      "print \"Valor de R(x,y) con la libreria Rational\", R_Rat"
     ],
     "language": "python",
     "metadata": {},
     "outputs": [
      {
       "output_type": "stream",
       "stream": "stdout",
       "text": [
        "Valor de R(x,y) normal de numpy:  -1.18059162072e+21\n",
        "Valor de R(x,y) con 30 digitos de precision 1.1726039400531786318588349045201554867261366425556681325047952979545584639708977\n",
        "Valor de R(x,y) con 60 digitos de precision -0.82739605994682136814116509547981629199903311578438481991781482670558326934533237\n",
        "Valor de R(x,y) con 80 digitos de precision -0.82739605994682136814116509547981629199903311578438481991781484167270969301426154\n",
        "Valor de R(x,y) con la libreria Rational -54767/66192\n"
       ]
      }
     ],
     "prompt_number": 34
    },
    {
     "cell_type": "markdown",
     "metadata": {},
     "source": [
      "**2.** \n",
      "\n",
      "Eval\u00faa num\u00e9ricamente (usando herramientas de Python) la integral\n",
      "$$\n",
      "I_1 = \\int_0^1 \\frac{1}{\\sqrt{\\pi}} \\exp \\left( -x^2 \\right) \\, dx\n",
      "$$"
     ]
    },
    {
     "cell_type": "heading",
     "level": 3,
     "metadata": {},
     "source": [
      "Respuesta al problema 2"
     ]
    },
    {
     "cell_type": "markdown",
     "metadata": {},
     "source": [
      "Para poder solucionar esta integral se utiliz\u00f3 la funci\u00f3n ``quad`` de sympy. Esta funci\u00f3n permite resolver una integral num\u00e9ricamente con el m\u00e9todo de cuadratura gaussiana. El valor que devuelve con 30 d\u00edgitos significativos es el de: **0.421350396474857434670610317541**"
     ]
    },
    {
     "cell_type": "heading",
     "level": 3,
     "metadata": {},
     "source": [
      "C\u00f3digo del problema 2"
     ]
    },
    {
     "cell_type": "code",
     "collapsed": false,
     "input": [
      "import numpy as np\n",
      "from sympy.mpmath import *\n",
      "\n",
      "mp.dps = 30\n",
      "Res = quad(lambda x: 1./sqrt(pi)*exp(-x**2), [0,1])\n",
      "\n",
      "print Res"
     ],
     "language": "python",
     "metadata": {},
     "outputs": [
      {
       "output_type": "stream",
       "stream": "stdout",
       "text": [
        "0.421350396474857434670610317541\n"
       ]
      }
     ],
     "prompt_number": 35
    },
    {
     "cell_type": "markdown",
     "metadata": {},
     "source": [
      "**3.** \n",
      "\n",
      "a. Dibuja la funci\u00f3n \n",
      "$$\n",
      "f(x) = x^{-1} \\cos \\left( x^{-1} \\log{x} \\right)\n",
      "$$\n",
      "en el intervalo [0,1].\n",
      "\n",
      "b. Calcula ahora el *valor num\u00e9rico* de\n",
      "$$\n",
      "\\lim_{\\epsilon\\to 0} \\int_\\epsilon^1 f(x) \\, dx\n",
      "$$\n",
      "\n",
      "c. \u00bfC\u00f3mo podr\u00edas verificar si el valor num\u00e9rico que obtuviste es correcto en 10 decimales?"
     ]
    },
    {
     "cell_type": "heading",
     "level": 3,
     "metadata": {},
     "source": [
      "Respuestas al problema 3"
     ]
    },
    {
     "cell_type": "markdown",
     "metadata": {},
     "source": [
      "a) Se pudo graficar la funci\u00f3n exitosamente marcando un intervalo de $[0.01,1]$ pues ``matplotlib`` tiene problemas para graficar funciones que no est\u00e1n definidas en alguno de sus puntos. La gr\u00e1fica se puede observar m\u00e1s adelante junto con el c\u00f3digo para producirla."
     ]
    },
    {
     "cell_type": "markdown",
     "metadata": {},
     "source": [
      "b) Para resolver esta integral se utilizaron muchos m\u00e9todos sin tener resultados totalmente favorables. Siendo una ecuaci\u00f3n con una descontinuidad muy extra\u00f1a en el origen (pues la funci\u00f3n var\u00eda r\u00e1pidamente entre $-\\infty$ y $+\\infty$), dif\u00edcilmente se puede usear un m\u00e9todo de integraci\u00f3n num\u00e9rica \"trivial\". Se intent\u00f3 resolver haciendo uso de un cambio de variable, integraci\u00f3n num\u00e9rica por Monte-Carlo y un an\u00e1lisis de m\u00e1ximos y m\u00ednimos cerca del origen, sin embargo se decidi\u00f3 que el valor que m\u00e1s se acercaba al que se esperaba correcto (por una comparaci\u00f3n a la soluci\u00f3n usando ``NSolve`` en Mathematica), fue usando una cuadratura gaussiana de grado 16, con el m\u00e9todo de tangente y seno hiperb\u00f3lico. Dicho valor se aproxim\u00f3 a: **0.32705213824489174767799666285140763321088314772552**, diferente al segundo d\u00edgito significativo del resultado encontrado con Mathematica (**~0.323367**)."
     ]
    },
    {
     "cell_type": "heading",
     "level": 3,
     "metadata": {},
     "source": [
      "C\u00f3digo del problema 3"
     ]
    },
    {
     "cell_type": "code",
     "collapsed": false,
     "input": [
      "%matplotlib inline"
     ],
     "language": "python",
     "metadata": {},
     "outputs": [],
     "prompt_number": 36
    },
    {
     "cell_type": "code",
     "collapsed": false,
     "input": [
      "import numpy as np\n",
      "\n",
      "from matplotlib import pyplot as plt\n",
      "\n",
      "x = np.linspace(0.01,1,1001)\n",
      "f = 1./x*np.cos(np.log(x)/x)\n",
      "\n",
      "plt.plot(x, f)\n",
      "plt.xlabel(\"$x$\")\n",
      "plt.ylabel(\"$f(x)$\")\n",
      "plt.grid(True)\n",
      "plt.show()"
     ],
     "language": "python",
     "metadata": {},
     "outputs": [
      {
       "metadata": {},
       "output_type": "display_data",
       "png": "[encoded data removed]",
       "text": [
        "<matplotlib.figure.Figure at 0x10876ad50>"
       ]
      }
     ],
     "prompt_number": 37
    },
    {
     "cell_type": "code",
     "collapsed": false,
     "input": [
      "from sympy.mpmath import *\n",
      "\n",
      "mp.dps = 50\n",
      "f = lambda x: (1./x)*cos(log(x)/x)\n",
      "\n",
      "I = quad(f, [0, 1], maxdegree=16, method='tanh-sinh')\n",
      "print I"
     ],
     "language": "python",
     "metadata": {},
     "outputs": [
      {
       "output_type": "stream",
       "stream": "stdout",
       "text": [
        "0.32705213824489174767799666285140763321088314772552\n"
       ]
      }
     ],
     "prompt_number": 38
    },
    {
     "cell_type": "markdown",
     "metadata": {},
     "source": [
      "**4.**\n",
      "\n",
      "Completa las operaciones aritm\u00e9ticas (resta, multiplicaci\u00f3n y divisi\u00f3n) para la clase `Intervalo` que definimos en clase."
     ]
    },
    {
     "cell_type": "heading",
     "level": 3,
     "metadata": {},
     "source": [
      "Respuesta al problema 4"
     ]
    },
    {
     "cell_type": "markdown",
     "metadata": {},
     "source": [
      "En la \u00faltima clase no se precisi\u00f3 que tan extensa debe de ser la clase ``Intervalo`` para los fines de la tarea (se habl\u00f3 de la posibilidad de hacer una s\u00faper Clase ``Intervalo Extendido`` que sirva para englobar los casos de la divisi\u00f3n cuando el denominador es un intervalo que contiene el cero. Siendo que ese tipo de operaciones devolver\u00edan objetos de intervalos seccionados no se generaliz\u00f3 su manejo como objeto ``intervalo`` pero s\u00ed se manej\u00f3 algo similar con la operaci\u00f3n de Uni\u00f3n."
     ]
    },
    {
     "cell_type": "markdown",
     "metadata": {},
     "source": [
      "Para este problema se program\u00f3 la clase Intervalo con las siguientes operaciones:"
     ]
    },
    {
     "cell_type": "markdown",
     "metadata": {},
     "source": [
      "- add: suma de intervalos\n",
      "- sub: resta de intervalos\n",
      "- mul: multiplicaci\u00f3n de intervalos (con el m\u00e9todo \"lento\" visto en clase)\n",
      "- inverse: funci\u00f3n que ayuda a calcular la divisi\u00f3n de intervalos\n",
      "- div: divisi\u00f3n de intervalos (no soluciona el caso para cuando el denominador es un intervalo que contiene el cero)\n",
      "- neg: negativo del intervalo\n",
      "- and: intersecci\u00f3n de intervalos\n",
      "- or: uni\u00f3n de intervalos (que puede devolver varios intervalos como elementos de una lista)\n",
      "- hull: devuelve el hull de un par de intervalos (el intervalo m\u00e1s grande que se puede formar con los elementos de ambos)\n",
      "- width: devuelve el grosor del intervalo $x_{max} - x_{min}$\n",
      "- mean: devuelve el valor medio del intervalo\n",
      "- radius: devuelve el radio del intervalo"
     ]
    },
    {
     "cell_type": "heading",
     "level": 3,
     "metadata": {},
     "source": [
      "C\u00f3digo del problema 4"
     ]
    },
    {
     "cell_type": "code",
     "collapsed": false,
     "input": [
      "import numpy as np\n",
      "\n",
      "class Intervalo(object):\n",
      "    def __init__(self, min, max=None): \n",
      "        \n",
      "        if max is None:\n",
      "            max = min\n",
      "        elif min > max:\n",
      "            min, max = max, min\n",
      "        \n",
      "        self.min = min\n",
      "        self.max = max\n",
      "    \n",
      "    def __repr__(self):\n",
      "        return \"Intervalo({},{})\".format(self.min,self.max) #otra manera de hacerlo\n",
      "        \n",
      "    def __str__(self):\n",
      "        return \"[{},{}]\".format(self.min, self.max)\n",
      "    \n",
      "    def _repr_html_(self):\n",
      "        return \"[{},{}]\".format(self.min, self.max)\n",
      "    \n",
      "    def __add__(self, otro):\n",
      "        if (not isinstance(otro,Intervalo)):\n",
      "            otro = Intervalo(otro)\n",
      "        return Intervalo(self.min + otro.min, self.max + otro.max)\n",
      "        \n",
      "    def __radd__(self, otro):\n",
      "        return self + otro\n",
      "    \n",
      "    def __sub__(self, otro):\n",
      "        if (not isinstance(otro,Intervalo)):\n",
      "            otro = Intervalo(otro)\n",
      "        return Intervalo(self.min - otro.max, self.max - otro.min)\n",
      "    \n",
      "    def __rsub__(self, otro):\n",
      "        return self - otro\n",
      "    \n",
      "    def __mul__(self, otro):\n",
      "        if (not isinstance(otro,Intervalo)):\n",
      "            otro = Intervalo(otro)\n",
      "        a = np.min([self.min*otro.min, self.min*otro.max, self.max*otro.min, self.max*otro.max])\n",
      "        b = np.max([self.min*otro.min, self.min*otro.max, self.max*otro.min, self.max*otro.max])\n",
      "        return Intervalo(a,b)\n",
      "    \n",
      "    def __rmul__(self, otro):\n",
      "        return self * otro\n",
      "    \n",
      "    #Funcion inversa para calcular mas facil la division    \n",
      "    def inverse(self):\n",
      "        if self.min <= 0 <= self.max:\n",
      "            return \"Error, el intervalo del denominador contiene el cero\"\n",
      "        else:\n",
      "            return Intervalo(1./self.max,1./self.min)\n",
      "    \n",
      "    def __div__(self, otro):\n",
      "        if (not isinstance(otro,Intervalo)):\n",
      "            otro = Intervalo(otro)\n",
      "        if otro.min <= 0 & otro.max >= 0:\n",
      "            return \"Error, el intervalo del denominador contiene el cero\"\n",
      "        else:\n",
      "            return self * otro.inverse()\n",
      "    \n",
      "    __truediv__ = __div__\n",
      "    \n",
      "    def __rdiv__(self, otro):\n",
      "        return self.inverse() * otro\n",
      "        \n",
      "    __rtruediv__ = __rdiv__\n",
      "    \n",
      "    def __neg__(self):\n",
      "        return Intervalo(-self.max, -self.min)\n",
      "    \n",
      "    # Intersection\n",
      "    def __and__(self, otro):\n",
      "        if (not isinstance(otro,Intervalo)):\n",
      "            otro = Intervalo(otro)\n",
      "        if (self.min > otro.max) | (self.max < otro.min):\n",
      "            return 'null'\n",
      "        else:\n",
      "            a = np.max([self.min, otro.min])\n",
      "            b = np.min([self.max, otro.max])\n",
      "            return Intervalo(a,b)\n",
      "    \n",
      "    def __rand__(self, otro):\n",
      "        return self & otro\n",
      "    \n",
      "    def __or__(self, otro):\n",
      "        if (not isinstance(otro,Intervalo)):\n",
      "            otro = Intervalo(otro)\n",
      "        if (self.min > otro.max) | (self.max < otro.min):\n",
      "            return [self, otro]\n",
      "        else:\n",
      "            a = np.min([self.min, otro.min]) \n",
      "            b = np.max([self.max, otro.max])\n",
      "            return Intervalo(a,b)\n",
      "    \n",
      "    def __ror__(self, otro):\n",
      "        return self | otro\n",
      "    \n",
      "    def hull(self, otro):\n",
      "        if (not isinstance(otro,Intervalo)):\n",
      "            otro = Intervalo(otro)\n",
      "        a = np.min([self.min,otro.min])\n",
      "        b = np.max([self.max,otro.max])\n",
      "        return Intervalo(a,b)\n",
      "    \n",
      "    def width(self):\n",
      "        return self.max - self.min\n",
      "    \n",
      "    def mean(self):\n",
      "        return 1./2.*(self.min + self.max)\n",
      "    \n",
      "    def radius(self):\n",
      "        return 1./2.*self.width()\n",
      "    "
     ],
     "language": "python",
     "metadata": {},
     "outputs": [],
     "prompt_number": 39
    },
    {
     "cell_type": "code",
     "collapsed": false,
     "input": [],
     "language": "python",
     "metadata": {},
     "outputs": []
    }
   ],
   "metadata": {}
  }
 ]
}