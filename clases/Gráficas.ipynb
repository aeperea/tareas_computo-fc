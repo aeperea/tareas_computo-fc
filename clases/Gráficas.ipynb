{
 "metadata": {
  "name": ""
 },
 "nbformat": 3,
 "nbformat_minor": 0,
 "worksheets": [
  {
   "cells": [
    {
     "cell_type": "heading",
     "level": 1,
     "metadata": {},
     "source": [
      "Matplotlib"
     ]
    },
    {
     "cell_type": "markdown",
     "metadata": {},
     "source": [
      "Hay que hacer el setup para que ipython pueda comnicarse bien con matplotlib:"
     ]
    },
    {
     "cell_type": "code",
     "collapsed": false,
     "input": [
      "%matplotlib"
     ],
     "language": "python",
     "metadata": {},
     "outputs": [
      {
       "output_type": "stream",
       "stream": "stdout",
       "text": [
        "Using matplotlib backend: MacOSX\n"
       ]
      }
     ],
     "prompt_number": 3
    },
    {
     "cell_type": "markdown",
     "metadata": {},
     "source": [
      "En versiones anteriores al 1.0 de ipython"
     ]
    },
    {
     "cell_type": "raw",
     "metadata": {},
     "source": [
      "%pylab (si agregamos inline las gr\u00e1ficas se agregan al html)"
     ]
    },
    {
     "cell_type": "code",
     "collapsed": false,
     "input": [
      "%matplotlib inline"
     ],
     "language": "python",
     "metadata": {},
     "outputs": [],
     "prompt_number": 1
    },
    {
     "cell_type": "code",
     "collapsed": false,
     "input": [
      "from matplotlib import pyplot as plt"
     ],
     "language": "python",
     "metadata": {},
     "outputs": [],
     "prompt_number": 2
    },
    {
     "cell_type": "code",
     "collapsed": false,
     "input": [
      "fig, ax = plt.subplots() #fig es el objeto de la figura y ax de los ejes"
     ],
     "language": "python",
     "metadata": {},
     "outputs": [
      {
       "metadata": {},
       "output_type": "display_data",
       "png": "[encoded data removed]",
       "text": [
        "<matplotlib.figure.Figure at 0x107c20bd0>"
       ]
      }
     ],
     "prompt_number": 3
    },
    {
     "cell_type": "code",
     "collapsed": false,
     "input": [
      "plt.show()"
     ],
     "language": "python",
     "metadata": {},
     "outputs": [],
     "prompt_number": 5
    },
    {
     "cell_type": "code",
     "collapsed": false,
     "input": [
      "import numpy as np"
     ],
     "language": "python",
     "metadata": {},
     "outputs": [],
     "prompt_number": 6
    },
    {
     "cell_type": "code",
     "collapsed": false,
     "input": [
      "x = np.linspace(-3,3,101)"
     ],
     "language": "python",
     "metadata": {},
     "outputs": [],
     "prompt_number": 7
    },
    {
     "cell_type": "code",
     "collapsed": false,
     "input": [
      "y = [valor**2 for valor in x]  #para hacer una par\u00e1bola, tambi\u00e9n se pudo haber usado y = x**2"
     ],
     "language": "python",
     "metadata": {},
     "outputs": [],
     "prompt_number": 8
    },
    {
     "cell_type": "code",
     "collapsed": false,
     "input": [
      "ax.plot(x,y)"
     ],
     "language": "python",
     "metadata": {},
     "outputs": [
      {
       "metadata": {},
       "output_type": "pyout",
       "prompt_number": 9,
       "text": [
        "[<matplotlib.lines.Line2D at 0x107c3b350>]"
       ]
      }
     ],
     "prompt_number": 9
    },
    {
     "cell_type": "code",
     "collapsed": false,
     "input": [
      "plt.plot(x,y) #graficar\n",
      "plt.grid(True) #activar grid"
     ],
     "language": "python",
     "metadata": {},
     "outputs": [
      {
       "metadata": {},
       "output_type": "display_data",
       "png": "[encoded data removed]",
       "text": [
        "<matplotlib.figure.Figure at 0x107c34810>"
       ]
      }
     ],
     "prompt_number": 10
    },
    {
     "cell_type": "code",
     "collapsed": false,
     "input": [
      "plt.xlabel(\"$x$ = numero de cosas\", fontsize=25)"
     ],
     "language": "python",
     "metadata": {},
     "outputs": [
      {
       "metadata": {},
       "output_type": "pyout",
       "prompt_number": 11,
       "text": [
        "<matplotlib.text.Text at 0x10967ea90>"
       ]
      },
      {
       "metadata": {},
       "output_type": "display_data",
       "png": "[encoded data removed]",
       "text": [
        "<matplotlib.figure.Figure at 0x10990a750>"
       ]
      }
     ],
     "prompt_number": 11
    },
    {
     "cell_type": "code",
     "collapsed": false,
     "input": [
      "plt.ylabel(\"$y=x^2$\", fontsize=25)\n",
      "# para agregar textos plt.text()"
     ],
     "language": "python",
     "metadata": {},
     "outputs": [
      {
       "metadata": {},
       "output_type": "pyout",
       "prompt_number": 12,
       "text": [
        "<matplotlib.text.Text at 0x1096942d0>"
       ]
      },
      {
       "metadata": {},
       "output_type": "display_data",
       "png": "[encoded data removed]",
       "text": [
        "<matplotlib.figure.Figure at 0x1099186d0>"
       ]
      }
     ],
     "prompt_number": 12
    },
    {
     "cell_type": "code",
     "collapsed": false,
     "input": [
      "plt.title(\"Un dibujo muy interesante de $y = x^2$\", fontsize=30)"
     ],
     "language": "python",
     "metadata": {},
     "outputs": [
      {
       "metadata": {},
       "output_type": "pyout",
       "prompt_number": 13,
       "text": [
        "<matplotlib.text.Text at 0x10993b190>"
       ]
      },
      {
       "metadata": {},
       "output_type": "display_data",
       "png": "[encoded data removed]",
       "text": [
        "<matplotlib.figure.Figure at 0x107c20d90>"
       ]
      }
     ],
     "prompt_number": 13
    },
    {
     "cell_type": "code",
     "collapsed": false,
     "input": [
      "plt.plot(x,y,'o')"
     ],
     "language": "python",
     "metadata": {},
     "outputs": [
      {
       "metadata": {},
       "output_type": "pyout",
       "prompt_number": 14,
       "text": [
        "[<matplotlib.lines.Line2D at 0x1099b0350>]"
       ]
      },
      {
       "metadata": {},
       "output_type": "display_data",
       "png": "[encoded data removed]",
       "text": [
        "<matplotlib.figure.Figure at 0x109a0b050>"
       ]
      }
     ],
     "prompt_number": 14
    },
    {
     "cell_type": "code",
     "collapsed": false,
     "input": [
      "plt.savefig(\"figura_clase01.pdf\") #exportar im\u00e1genes"
     ],
     "language": "python",
     "metadata": {},
     "outputs": [
      {
       "metadata": {},
       "output_type": "display_data",
       "text": [
        "<matplotlib.figure.Figure at 0x109904710>"
       ]
      }
     ],
     "prompt_number": 15
    },
    {
     "cell_type": "heading",
     "level": 3,
     "metadata": {},
     "source": [
      "Dibujar un circulo"
     ]
    },
    {
     "cell_type": "markdown",
     "metadata": {},
     "source": [
      "Lo m\u00e1s sencillo ser\u00eda hacerlo parametrizado"
     ]
    },
    {
     "cell_type": "code",
     "collapsed": false,
     "input": [
      "r = 1\n",
      "theta = np.linspace(0,2*np.pi,201)\n",
      "x = np.cos(theta)\n",
      "y = np.sin(theta)\n",
      "\n",
      "plt.clf() #limpia la figura"
     ],
     "language": "python",
     "metadata": {},
     "outputs": [
      {
       "metadata": {},
       "output_type": "display_data",
       "text": [
        "<matplotlib.figure.Figure at 0x109e06110>"
       ]
      }
     ],
     "prompt_number": 16
    },
    {
     "cell_type": "code",
     "collapsed": false,
     "input": [
      "plt.plot(x,y)\n",
      "plt.axis(\"scaled\") #axis ratio\n",
      "plt.xlim(-1.1,1.1)\n",
      "plt.ylim(-1.1,1.1)  #aumentar el l\u00edmite de los ejes\n",
      "plt.plot(0,0,'o',color=\"red\")\n",
      "plt.plot(0,0,'o',color=(0.5,0.5,0.2), markersize=1)"
     ],
     "language": "python",
     "metadata": {},
     "outputs": [
      {
       "metadata": {},
       "output_type": "pyout",
       "prompt_number": 28,
       "text": [
        "[<matplotlib.lines.Line2D at 0x10a83f290>]"
       ]
      },
      {
       "metadata": {},
       "output_type": "display_data",
       "png": "[encoded data removed]",
       "text": [
        "<matplotlib.figure.Figure at 0x10a83f2d0>"
       ]
      }
     ],
     "prompt_number": 28
    },
    {
     "cell_type": "code",
     "collapsed": false,
     "input": [
      "plt.plot? #para ver todas las propiedades y cambiar la visualizaci\u00f3n"
     ],
     "language": "python",
     "metadata": {},
     "outputs": [],
     "prompt_number": 26
    },
    {
     "cell_type": "heading",
     "level": 2,
     "metadata": {},
     "source": [
      "Guardar y cargar datos"
     ]
    },
    {
     "cell_type": "markdown",
     "metadata": {},
     "source": [
      "Queremos exportar los archivos. Para eso queremos tener un arreglo que tenga las dos columans de los valores de x y de y."
     ]
    },
    {
     "cell_type": "code",
     "collapsed": false,
     "input": [
      "l = [x,y] #lista de dos arreglos\n",
      "l = np.array(l) #arreglo de dos renglones \n",
      "l = l.T #transponemos para poner los datos como COLUMNAS"
     ],
     "language": "python",
     "metadata": {},
     "outputs": [],
     "prompt_number": 34
    },
    {
     "cell_type": "code",
     "collapsed": false,
     "input": [
      "np.column_stack((x,y))  #con esta instrucci\u00f3n numpy lo hace por su cuenta"
     ],
     "language": "python",
     "metadata": {},
     "outputs": [
      {
       "metadata": {},
       "output_type": "pyout",
       "prompt_number": 35,
       "text": [
        "array([[  1.00000000e+00,   0.00000000e+00],\n",
        "       [  9.99506560e-01,   3.14107591e-02],\n",
        "       [  9.98026728e-01,   6.27905195e-02],\n",
        "       [  9.95561965e-01,   9.41083133e-02],\n",
        "       [  9.92114701e-01,   1.25333234e-01],\n",
        "       [  9.87688341e-01,   1.56434465e-01],\n",
        "       [  9.82287251e-01,   1.87381315e-01],\n",
        "       [  9.75916762e-01,   2.18143241e-01],\n",
        "       [  9.68583161e-01,   2.48689887e-01],\n",
        "       [  9.60293686e-01,   2.78991106e-01],\n",
        "       [  9.51056516e-01,   3.09016994e-01],\n",
        "       [  9.40880769e-01,   3.38737920e-01],\n",
        "       [  9.29776486e-01,   3.68124553e-01],\n",
        "       [  9.17754626e-01,   3.97147891e-01],\n",
        "       [  9.04827052e-01,   4.25779292e-01],\n",
        "       [  8.91006524e-01,   4.53990500e-01],\n",
        "       [  8.76306680e-01,   4.81753674e-01],\n",
        "       [  8.60742027e-01,   5.09041416e-01],\n",
        "       [  8.44327926e-01,   5.35826795e-01],\n",
        "       [  8.27080574e-01,   5.62083378e-01],\n",
        "       [  8.09016994e-01,   5.87785252e-01],\n",
        "       [  7.90155012e-01,   6.12907054e-01],\n",
        "       [  7.70513243e-01,   6.37423990e-01],\n",
        "       [  7.50111070e-01,   6.61311865e-01],\n",
        "       [  7.28968627e-01,   6.84547106e-01],\n",
        "       [  7.07106781e-01,   7.07106781e-01],\n",
        "       [  6.84547106e-01,   7.28968627e-01],\n",
        "       [  6.61311865e-01,   7.50111070e-01],\n",
        "       [  6.37423990e-01,   7.70513243e-01],\n",
        "       [  6.12907054e-01,   7.90155012e-01],\n",
        "       [  5.87785252e-01,   8.09016994e-01],\n",
        "       [  5.62083378e-01,   8.27080574e-01],\n",
        "       [  5.35826795e-01,   8.44327926e-01],\n",
        "       [  5.09041416e-01,   8.60742027e-01],\n",
        "       [  4.81753674e-01,   8.76306680e-01],\n",
        "       [  4.53990500e-01,   8.91006524e-01],\n",
        "       [  4.25779292e-01,   9.04827052e-01],\n",
        "       [  3.97147891e-01,   9.17754626e-01],\n",
        "       [  3.68124553e-01,   9.29776486e-01],\n",
        "       [  3.38737920e-01,   9.40880769e-01],\n",
        "       [  3.09016994e-01,   9.51056516e-01],\n",
        "       [  2.78991106e-01,   9.60293686e-01],\n",
        "       [  2.48689887e-01,   9.68583161e-01],\n",
        "       [  2.18143241e-01,   9.75916762e-01],\n",
        "       [  1.87381315e-01,   9.82287251e-01],\n",
        "       [  1.56434465e-01,   9.87688341e-01],\n",
        "       [  1.25333234e-01,   9.92114701e-01],\n",
        "       [  9.41083133e-02,   9.95561965e-01],\n",
        "       [  6.27905195e-02,   9.98026728e-01],\n",
        "       [  3.14107591e-02,   9.99506560e-01],\n",
        "       [ -1.60812265e-16,   1.00000000e+00],\n",
        "       [ -3.14107591e-02,   9.99506560e-01],\n",
        "       [ -6.27905195e-02,   9.98026728e-01],\n",
        "       [ -9.41083133e-02,   9.95561965e-01],\n",
        "       [ -1.25333234e-01,   9.92114701e-01],\n",
        "       [ -1.56434465e-01,   9.87688341e-01],\n",
        "       [ -1.87381315e-01,   9.82287251e-01],\n",
        "       [ -2.18143241e-01,   9.75916762e-01],\n",
        "       [ -2.48689887e-01,   9.68583161e-01],\n",
        "       [ -2.78991106e-01,   9.60293686e-01],\n",
        "       [ -3.09016994e-01,   9.51056516e-01],\n",
        "       [ -3.38737920e-01,   9.40880769e-01],\n",
        "       [ -3.68124553e-01,   9.29776486e-01],\n",
        "       [ -3.97147891e-01,   9.17754626e-01],\n",
        "       [ -4.25779292e-01,   9.04827052e-01],\n",
        "       [ -4.53990500e-01,   8.91006524e-01],\n",
        "       [ -4.81753674e-01,   8.76306680e-01],\n",
        "       [ -5.09041416e-01,   8.60742027e-01],\n",
        "       [ -5.35826795e-01,   8.44327926e-01],\n",
        "       [ -5.62083378e-01,   8.27080574e-01],\n",
        "       [ -5.87785252e-01,   8.09016994e-01],\n",
        "       [ -6.12907054e-01,   7.90155012e-01],\n",
        "       [ -6.37423990e-01,   7.70513243e-01],\n",
        "       [ -6.61311865e-01,   7.50111070e-01],\n",
        "       [ -6.84547106e-01,   7.28968627e-01],\n",
        "       [ -7.07106781e-01,   7.07106781e-01],\n",
        "       [ -7.28968627e-01,   6.84547106e-01],\n",
        "       [ -7.50111070e-01,   6.61311865e-01],\n",
        "       [ -7.70513243e-01,   6.37423990e-01],\n",
        "       [ -7.90155012e-01,   6.12907054e-01],\n",
        "       [ -8.09016994e-01,   5.87785252e-01],\n",
        "       [ -8.27080574e-01,   5.62083378e-01],\n",
        "       [ -8.44327926e-01,   5.35826795e-01],\n",
        "       [ -8.60742027e-01,   5.09041416e-01],\n",
        "       [ -8.76306680e-01,   4.81753674e-01],\n",
        "       [ -8.91006524e-01,   4.53990500e-01],\n",
        "       [ -9.04827052e-01,   4.25779292e-01],\n",
        "       [ -9.17754626e-01,   3.97147891e-01],\n",
        "       [ -9.29776486e-01,   3.68124553e-01],\n",
        "       [ -9.40880769e-01,   3.38737920e-01],\n",
        "       [ -9.51056516e-01,   3.09016994e-01],\n",
        "       [ -9.60293686e-01,   2.78991106e-01],\n",
        "       [ -9.68583161e-01,   2.48689887e-01],\n",
        "       [ -9.75916762e-01,   2.18143241e-01],\n",
        "       [ -9.82287251e-01,   1.87381315e-01],\n",
        "       [ -9.87688341e-01,   1.56434465e-01],\n",
        "       [ -9.92114701e-01,   1.25333234e-01],\n",
        "       [ -9.95561965e-01,   9.41083133e-02],\n",
        "       [ -9.98026728e-01,   6.27905195e-02],\n",
        "       [ -9.99506560e-01,   3.14107591e-02],\n",
        "       [ -1.00000000e+00,  -3.21624530e-16],\n",
        "       [ -9.99506560e-01,  -3.14107591e-02],\n",
        "       [ -9.98026728e-01,  -6.27905195e-02],\n",
        "       [ -9.95561965e-01,  -9.41083133e-02],\n",
        "       [ -9.92114701e-01,  -1.25333234e-01],\n",
        "       [ -9.87688341e-01,  -1.56434465e-01],\n",
        "       [ -9.82287251e-01,  -1.87381315e-01],\n",
        "       [ -9.75916762e-01,  -2.18143241e-01],\n",
        "       [ -9.68583161e-01,  -2.48689887e-01],\n",
        "       [ -9.60293686e-01,  -2.78991106e-01],\n",
        "       [ -9.51056516e-01,  -3.09016994e-01],\n",
        "       [ -9.40880769e-01,  -3.38737920e-01],\n",
        "       [ -9.29776486e-01,  -3.68124553e-01],\n",
        "       [ -9.17754626e-01,  -3.97147891e-01],\n",
        "       [ -9.04827052e-01,  -4.25779292e-01],\n",
        "       [ -8.91006524e-01,  -4.53990500e-01],\n",
        "       [ -8.76306680e-01,  -4.81753674e-01],\n",
        "       [ -8.60742027e-01,  -5.09041416e-01],\n",
        "       [ -8.44327926e-01,  -5.35826795e-01],\n",
        "       [ -8.27080574e-01,  -5.62083378e-01],\n",
        "       [ -8.09016994e-01,  -5.87785252e-01],\n",
        "       [ -7.90155012e-01,  -6.12907054e-01],\n",
        "       [ -7.70513243e-01,  -6.37423990e-01],\n",
        "       [ -7.50111070e-01,  -6.61311865e-01],\n",
        "       [ -7.28968627e-01,  -6.84547106e-01],\n",
        "       [ -7.07106781e-01,  -7.07106781e-01],\n",
        "       [ -6.84547106e-01,  -7.28968627e-01],\n",
        "       [ -6.61311865e-01,  -7.50111070e-01],\n",
        "       [ -6.37423990e-01,  -7.70513243e-01],\n",
        "       [ -6.12907054e-01,  -7.90155012e-01],\n",
        "       [ -5.87785252e-01,  -8.09016994e-01],\n",
        "       [ -5.62083378e-01,  -8.27080574e-01],\n",
        "       [ -5.35826795e-01,  -8.44327926e-01],\n",
        "       [ -5.09041416e-01,  -8.60742027e-01],\n",
        "       [ -4.81753674e-01,  -8.76306680e-01],\n",
        "       [ -4.53990500e-01,  -8.91006524e-01],\n",
        "       [ -4.25779292e-01,  -9.04827052e-01],\n",
        "       [ -3.97147891e-01,  -9.17754626e-01],\n",
        "       [ -3.68124553e-01,  -9.29776486e-01],\n",
        "       [ -3.38737920e-01,  -9.40880769e-01],\n",
        "       [ -3.09016994e-01,  -9.51056516e-01],\n",
        "       [ -2.78991106e-01,  -9.60293686e-01],\n",
        "       [ -2.48689887e-01,  -9.68583161e-01],\n",
        "       [ -2.18143241e-01,  -9.75916762e-01],\n",
        "       [ -1.87381315e-01,  -9.82287251e-01],\n",
        "       [ -1.56434465e-01,  -9.87688341e-01],\n",
        "       [ -1.25333234e-01,  -9.92114701e-01],\n",
        "       [ -9.41083133e-02,  -9.95561965e-01],\n",
        "       [ -6.27905195e-02,  -9.98026728e-01],\n",
        "       [ -3.14107591e-02,  -9.99506560e-01],\n",
        "       [ -1.83697020e-16,  -1.00000000e+00],\n",
        "       [  3.14107591e-02,  -9.99506560e-01],\n",
        "       [  6.27905195e-02,  -9.98026728e-01],\n",
        "       [  9.41083133e-02,  -9.95561965e-01],\n",
        "       [  1.25333234e-01,  -9.92114701e-01],\n",
        "       [  1.56434465e-01,  -9.87688341e-01],\n",
        "       [  1.87381315e-01,  -9.82287251e-01],\n",
        "       [  2.18143241e-01,  -9.75916762e-01],\n",
        "       [  2.48689887e-01,  -9.68583161e-01],\n",
        "       [  2.78991106e-01,  -9.60293686e-01],\n",
        "       [  3.09016994e-01,  -9.51056516e-01],\n",
        "       [  3.38737920e-01,  -9.40880769e-01],\n",
        "       [  3.68124553e-01,  -9.29776486e-01],\n",
        "       [  3.97147891e-01,  -9.17754626e-01],\n",
        "       [  4.25779292e-01,  -9.04827052e-01],\n",
        "       [  4.53990500e-01,  -8.91006524e-01],\n",
        "       [  4.81753674e-01,  -8.76306680e-01],\n",
        "       [  5.09041416e-01,  -8.60742027e-01],\n",
        "       [  5.35826795e-01,  -8.44327926e-01],\n",
        "       [  5.62083378e-01,  -8.27080574e-01],\n",
        "       [  5.87785252e-01,  -8.09016994e-01],\n",
        "       [  6.12907054e-01,  -7.90155012e-01],\n",
        "       [  6.37423990e-01,  -7.70513243e-01],\n",
        "       [  6.61311865e-01,  -7.50111070e-01],\n",
        "       [  6.84547106e-01,  -7.28968627e-01],\n",
        "       [  7.07106781e-01,  -7.07106781e-01],\n",
        "       [  7.28968627e-01,  -6.84547106e-01],\n",
        "       [  7.50111070e-01,  -6.61311865e-01],\n",
        "       [  7.70513243e-01,  -6.37423990e-01],\n",
        "       [  7.90155012e-01,  -6.12907054e-01],\n",
        "       [  8.09016994e-01,  -5.87785252e-01],\n",
        "       [  8.27080574e-01,  -5.62083378e-01],\n",
        "       [  8.44327926e-01,  -5.35826795e-01],\n",
        "       [  8.60742027e-01,  -5.09041416e-01],\n",
        "       [  8.76306680e-01,  -4.81753674e-01],\n",
        "       [  8.91006524e-01,  -4.53990500e-01],\n",
        "       [  9.04827052e-01,  -4.25779292e-01],\n",
        "       [  9.17754626e-01,  -3.97147891e-01],\n",
        "       [  9.29776486e-01,  -3.68124553e-01],\n",
        "       [  9.40880769e-01,  -3.38737920e-01],\n",
        "       [  9.51056516e-01,  -3.09016994e-01],\n",
        "       [  9.60293686e-01,  -2.78991106e-01],\n",
        "       [  9.68583161e-01,  -2.48689887e-01],\n",
        "       [  9.75916762e-01,  -2.18143241e-01],\n",
        "       [  9.82287251e-01,  -1.87381315e-01],\n",
        "       [  9.87688341e-01,  -1.56434465e-01],\n",
        "       [  9.92114701e-01,  -1.25333234e-01],\n",
        "       [  9.95561965e-01,  -9.41083133e-02],\n",
        "       [  9.98026728e-01,  -6.27905195e-02],\n",
        "       [  9.99506560e-01,  -3.14107591e-02],\n",
        "       [  1.00000000e+00,  -2.44929360e-16]])"
       ]
      }
     ],
     "prompt_number": 35
    },
    {
     "cell_type": "code",
     "collapsed": false,
     "input": [
      "np.savetxt(\"cuad.txt\",l)"
     ],
     "language": "python",
     "metadata": {},
     "outputs": [],
     "prompt_number": 44
    },
    {
     "cell_type": "code",
     "collapsed": false,
     "input": [
      "!cat cuad.txt #para mandar a la terminal"
     ],
     "language": "python",
     "metadata": {},
     "outputs": [
      {
       "output_type": "stream",
       "stream": "stdout",
       "text": [
        "1.000000000000000000e+00 9.995065603657316000e-01 9.980267284282715590e-01 9.955619646030799963e-01 9.921147013144778759e-01 9.876883405951377704e-01 9.822872507286887211e-01 9.759167619387474346e-01 9.685831611286310761e-01 9.602936856769430651e-01 9.510565162951535312e-01 9.408807689542254549e-01 9.297764858882513472e-01 9.177546256839811400e-01 9.048270524660194658e-01 8.910065241883677878e-01 8.763066800438635839e-01 8.607420270039436438e-01 8.443279255020150753e-01 8.270805742745618305e-01 8.090169943749474513e-01 7.901550123756904132e-01 7.705132427757891422e-01 7.501110696304595926e-01 7.289686274214115524e-01 7.071067811865474617e-01 6.845471059286887261e-01 6.613118653236518263e-01 6.374239897486896345e-01 6.129070536529764857e-01 5.877852522924731371e-01 5.620833778521305835e-01 5.358267949789966567e-01 5.090414157503713177e-01 4.817536741017152124e-01 4.539904997395468045e-01 4.257792915650726595e-01 3.971478906347805649e-01 3.681245526846778637e-01 3.387379202452912574e-01 3.090169943749474513e-01 2.789911060392292752e-01 2.486898871648547393e-01 2.181432413965424810e-01 1.873813145857245177e-01 1.564344650402307024e-01 1.253332335643042583e-01 9.410831331851428339e-02 6.279051952931329061e-02 3.141075907812818091e-02 -1.608122649676636601e-16 -3.141075907812827805e-02 -6.279051952931340164e-02 -9.410831331851439441e-02 -1.253332335643043693e-01 -1.564344650402310355e-01 -1.873813145857248230e-01 -2.181432413965425643e-01 -2.486898871648548504e-01 -2.789911060392293862e-01 -3.090169943749475623e-01 -3.387379202452915905e-01 -3.681245526846779748e-01 -3.971478906347806759e-01 -4.257792915650727705e-01 -4.539904997395467490e-01 -4.817536741017153790e-01 -5.090414157503713177e-01 -5.358267949789967677e-01 -5.620833778521305835e-01 -5.877852522924730261e-01 -6.129070536529765967e-01 -6.374239897486896345e-01 -6.613118653236520483e-01 -6.845471059286887261e-01 -7.071067811865474617e-01 -7.289686274214116635e-01 -7.501110696304595926e-01 -7.705132427757894753e-01 -7.901550123756904132e-01 -8.090169943749473402e-01 -8.270805742745619416e-01 -8.443279255020150753e-01 -8.607420270039437549e-01 -8.763066800438636950e-01 -8.910065241883680098e-01 -9.048270524660195768e-01 -9.177546256839811400e-01 -9.297764858882514583e-01 -9.408807689542254549e-01 -9.510565162951536422e-01 -9.602936856769430651e-01 -9.685831611286310761e-01 -9.759167619387474346e-01 -9.822872507286887211e-01 -9.876883405951377704e-01 -9.921147013144778759e-01 -9.955619646030799963e-01 -9.980267284282715590e-01 -9.995065603657316000e-01 -1.000000000000000000e+00 -9.995065603657316000e-01 -9.980267284282715590e-01 -9.955619646030799963e-01 -9.921147013144778759e-01 -9.876883405951376593e-01 -9.822872507286886101e-01 -9.759167619387474346e-01 -9.685831611286310761e-01 -9.602936856769430651e-01 -9.510565162951534202e-01 -9.408807689542254549e-01 -9.297764858882512362e-01 -9.177546256839810290e-01 -9.048270524660194658e-01 -8.910065241883676768e-01 -8.763066800438634729e-01 -8.607420270039434218e-01 -8.443279255020149643e-01 -8.270805742745618305e-01 -8.090169943749472292e-01 -7.901550123756903021e-01 -7.705132427757890312e-01 -7.501110696304593706e-01 -7.289686274214115524e-01 -7.071067811865473507e-01 -6.845471059286886151e-01 -6.613118653236516042e-01 -6.374239897486896345e-01 -6.129070536529764857e-01 -5.877852522924732481e-01 -5.620833778521301394e-01 -5.358267949789963236e-01 -5.090414157503712067e-01 -4.817536741017153235e-01 -4.539904997395469155e-01 -4.257792915650721599e-01 -3.971478906347802873e-01 -3.681245526846777527e-01 -3.387379202452913685e-01 -3.090169943749475623e-01 -2.789911060392287201e-01 -2.486898871648544340e-01 -2.181432413965423978e-01 -1.873813145857246287e-01 -1.564344650402310632e-01 -1.253332335643037310e-01 -9.410831331851396420e-02 -6.279051952931319347e-02 -3.141075907812829193e-02 -1.836970198721029688e-16 3.141075907812881929e-02 6.279051952931372083e-02 9.410831331851449155e-02 1.253332335643042306e-01 1.564344650402306747e-01 1.873813145857251283e-01 2.181432413965428696e-01 2.486898871648549614e-01 2.789911060392292752e-01 3.090169943749472292e-01 3.387379202452918681e-01 3.681245526846783078e-01 3.971478906347807869e-01 4.257792915650726595e-01 4.539904997395474151e-01 4.817536741017157120e-01 5.090414157503715398e-01 5.358267949789966567e-01 5.620833778521305835e-01 5.877852522924736922e-01 6.129070536529768187e-01 6.374239897486899675e-01 6.613118653236519373e-01 6.845471059286886151e-01 7.071067811865480168e-01 7.289686274214118855e-01 7.501110696304598147e-01 7.705132427757893643e-01 7.901550123756904132e-01 8.090169943749478954e-01 8.270805742745621636e-01 8.443279255020152974e-01 8.607420270039437549e-01 8.763066800438635839e-01 8.910065241883682319e-01 9.048270524660197989e-01 9.177546256839812511e-01 9.297764858882514583e-01 9.408807689542254549e-01 9.510565162951537532e-01 9.602936856769431762e-01 9.685831611286311871e-01 9.759167619387474346e-01 9.822872507286887211e-01 9.876883405951378814e-01 9.921147013144778759e-01 9.955619646030799963e-01 9.980267284282715590e-01 9.995065603657316000e-01 1.000000000000000000e+00\r\n",
        "0.000000000000000000e+00 3.141075907812829193e-02 6.279051952931337388e-02 9.410831331851432502e-02 1.253332335643042583e-01 1.564344650402308690e-01 1.873813145857246287e-01 2.181432413965425643e-01 2.486898871648547948e-01 2.789911060392292752e-01 3.090169943749473958e-01 3.387379202452914240e-01 3.681245526846779748e-01 3.971478906347806204e-01 4.257792915650727150e-01 4.539904997395468045e-01 4.817536741017153235e-01 5.090414157503713177e-01 5.358267949789966567e-01 5.620833778521305835e-01 5.877852522924731371e-01 6.129070536529764857e-01 6.374239897486897455e-01 6.613118653236518263e-01 6.845471059286887261e-01 7.071067811865475727e-01 7.289686274214115524e-01 7.501110696304595926e-01 7.705132427757892533e-01 7.901550123756904132e-01 8.090169943749474513e-01 8.270805742745618305e-01 8.443279255020150753e-01 8.607420270039436438e-01 8.763066800438636950e-01 8.910065241883677878e-01 9.048270524660195768e-01 9.177546256839811400e-01 9.297764858882514583e-01 9.408807689542255659e-01 9.510565162951535312e-01 9.602936856769430651e-01 9.685831611286310761e-01 9.759167619387474346e-01 9.822872507286887211e-01 9.876883405951377704e-01 9.921147013144778759e-01 9.955619646030799963e-01 9.980267284282715590e-01 9.995065603657316000e-01 1.000000000000000000e+00 9.995065603657316000e-01 9.980267284282715590e-01 9.955619646030799963e-01 9.921147013144777649e-01 9.876883405951376593e-01 9.822872507286886101e-01 9.759167619387474346e-01 9.685831611286310761e-01 9.602936856769430651e-01 9.510565162951535312e-01 9.408807689542253438e-01 9.297764858882513472e-01 9.177546256839811400e-01 9.048270524660194658e-01 8.910065241883678988e-01 8.763066800438634729e-01 8.607420270039436438e-01 8.443279255020149643e-01 8.270805742745618305e-01 8.090169943749474513e-01 7.901550123756903021e-01 7.705132427757892533e-01 7.501110696304593706e-01 7.289686274214115524e-01 7.071067811865475727e-01 6.845471059286885041e-01 6.613118653236518263e-01 6.374239897486895234e-01 6.129070536529763746e-01 5.877852522924732481e-01 5.620833778521304724e-01 5.358267949789966567e-01 5.090414157503710957e-01 4.817536741017152124e-01 4.539904997395464714e-01 4.257792915650724930e-01 3.971478906347806204e-01 3.681245526846776972e-01 3.387379202452913129e-01 3.090169943749471182e-01 2.789911060392291087e-01 2.486898871648547948e-01 2.181432413965423145e-01 1.873813145857245455e-01 1.564344650402305359e-01 1.253332335643040918e-01 9.410831331851435277e-02 6.279051952931313796e-02 3.141075907812824336e-02 -3.216245299353273201e-16 -3.141075907812843071e-02 -6.279051952931333225e-02 -9.410831331851454706e-02 -1.253332335643043138e-01 -1.564344650402312020e-01 -1.873813145857247675e-01 -2.181432413965425088e-01 -2.486898871648550169e-01 -2.789911060392293307e-01 -3.090169943749477288e-01 -3.387379202452915350e-01 -3.681245526846783633e-01 -3.971478906347808424e-01 -4.257792915650727150e-01 -4.539904997395470820e-01 -4.817536741017153790e-01 -5.090414157503716508e-01 -5.358267949789967677e-01 -5.620833778521305835e-01 -5.877852522924733591e-01 -6.129070536529765967e-01 -6.374239897486899675e-01 -6.613118653236520483e-01 -6.845471059286887261e-01 -7.071067811865476838e-01 -7.289686274214115524e-01 -7.501110696304598147e-01 -7.705132427757893643e-01 -7.901550123756904132e-01 -8.090169943749473402e-01 -8.270805742745621636e-01 -8.443279255020152974e-01 -8.607420270039437549e-01 -8.763066800438635839e-01 -8.910065241883677878e-01 -9.048270524660197989e-01 -9.177546256839812511e-01 -9.297764858882514583e-01 -9.408807689542254549e-01 -9.510565162951535312e-01 -9.602936856769431762e-01 -9.685831611286311871e-01 -9.759167619387474346e-01 -9.822872507286887211e-01 -9.876883405951376593e-01 -9.921147013144778759e-01 -9.955619646030799963e-01 -9.980267284282715590e-01 -9.995065603657316000e-01 -1.000000000000000000e+00 -9.995065603657314890e-01 -9.980267284282715590e-01 -9.955619646030799963e-01 -9.921147013144778759e-01 -9.876883405951377704e-01 -9.822872507286886101e-01 -9.759167619387473236e-01 -9.685831611286310761e-01 -9.602936856769430651e-01 -9.510565162951536422e-01 -9.408807689542253438e-01 -9.297764858882512362e-01 -9.177546256839810290e-01 -9.048270524660195768e-01 -8.910065241883675657e-01 -8.763066800438633619e-01 -8.607420270039434218e-01 -8.443279255020150753e-01 -8.270805742745618305e-01 -8.090169943749470072e-01 -7.901550123756900801e-01 -7.705132427757890312e-01 -7.501110696304594816e-01 -7.289686274214115524e-01 -7.071067811865470176e-01 -6.845471059286882820e-01 -6.613118653236516042e-01 -6.374239897486896345e-01 -6.129070536529764857e-01 -5.877852522924725820e-01 -5.620833778521301394e-01 -5.358267949789963236e-01 -5.090414157503712067e-01 -4.817536741017153235e-01 -4.539904997395461939e-01 -4.257792915650722154e-01 -3.971478906347802873e-01 -3.681245526846778082e-01 -3.387379202452914240e-01 -3.090169943749467851e-01 -2.789911060392287756e-01 -2.486898871648544895e-01 -2.181432413965424533e-01 -1.873813145857246842e-01 -1.564344650402302306e-01 -1.253332335643037865e-01 -9.410831331851403359e-02 -6.279051952931326286e-02 -3.141075907812835438e-02 -2.449293598294706414e-16\r\n"
       ]
      }
     ],
     "prompt_number": 45
    },
    {
     "cell_type": "code",
     "collapsed": false,
     "input": [
      "X = np.loadtxt(\"cuad.txt\") #para leer el archivo y escribir los datos en una variable llamada X"
     ],
     "language": "python",
     "metadata": {},
     "outputs": [],
     "prompt_number": 47
    },
    {
     "cell_type": "code",
     "collapsed": false,
     "input": [
      "x = X[:,0]\n",
      "y = X[:,1] #para pasar los datos a x e y"
     ],
     "language": "python",
     "metadata": {},
     "outputs": [],
     "prompt_number": 48
    },
    {
     "cell_type": "code",
     "collapsed": false,
     "input": [
      "x,y = X.T #otra manera de pasar los datos"
     ],
     "language": "python",
     "metadata": {},
     "outputs": [
      {
       "ename": "ValueError",
       "evalue": "too many values to unpack",
       "output_type": "pyerr",
       "traceback": [
        "\u001b[0;31m---------------------------------------------------------------------------\u001b[0m\n\u001b[0;31mValueError\u001b[0m                                Traceback (most recent call last)",
        "\u001b[0;32m<ipython-input-49-971556c94cfb>\u001b[0m in \u001b[0;36m<module>\u001b[0;34m()\u001b[0m\n\u001b[0;32m----> 1\u001b[0;31m \u001b[0mx\u001b[0m\u001b[0;34m,\u001b[0m\u001b[0my\u001b[0m \u001b[0;34m=\u001b[0m \u001b[0mX\u001b[0m\u001b[0;34m.\u001b[0m\u001b[0mT\u001b[0m \u001b[0;31m#otra manera de pasar los datos\u001b[0m\u001b[0;34m\u001b[0m\u001b[0m\n\u001b[0m",
        "\u001b[0;31mValueError\u001b[0m: too many values to unpack"
       ]
      }
     ],
     "prompt_number": 49
    },
    {
     "cell_type": "code",
     "collapsed": false,
     "input": [
      "x.y = np.loadtxt(\"cuad.txt\",unpack)"
     ],
     "language": "python",
     "metadata": {},
     "outputs": [
      {
       "ename": "NameError",
       "evalue": "name 'unpack' is not defined",
       "output_type": "pyerr",
       "traceback": [
        "\u001b[0;31m---------------------------------------------------------------------------\u001b[0m\n\u001b[0;31mNameError\u001b[0m                                 Traceback (most recent call last)",
        "\u001b[0;32m<ipython-input-50-cea90f58ad23>\u001b[0m in \u001b[0;36m<module>\u001b[0;34m()\u001b[0m\n\u001b[0;32m----> 1\u001b[0;31m \u001b[0mx\u001b[0m\u001b[0;34m.\u001b[0m\u001b[0my\u001b[0m \u001b[0;34m=\u001b[0m \u001b[0mnp\u001b[0m\u001b[0;34m.\u001b[0m\u001b[0mloadtxt\u001b[0m\u001b[0;34m(\u001b[0m\u001b[0;34m\"cuad.txt\"\u001b[0m\u001b[0;34m,\u001b[0m\u001b[0munpack\u001b[0m\u001b[0;34m)\u001b[0m\u001b[0;34m\u001b[0m\u001b[0m\n\u001b[0m",
        "\u001b[0;31mNameError\u001b[0m: name 'unpack' is not defined"
       ]
      }
     ],
     "prompt_number": 50
    },
    {
     "cell_type": "heading",
     "level": 1,
     "metadata": {},
     "source": [
      "Sympy"
     ]
    },
    {
     "cell_type": "code",
     "collapsed": false,
     "input": [
      "from sympy import *\n",
      "init_printing #para que se vea bonito"
     ],
     "language": "python",
     "metadata": {},
     "outputs": [
      {
       "metadata": {},
       "output_type": "pyout",
       "prompt_number": 66,
       "text": [
        "<function sympy.interactive.printing.init_printing>"
       ]
      }
     ],
     "prompt_number": 66
    },
    {
     "cell_type": "code",
     "collapsed": false,
     "input": [
      "x = symbols(\"x\") #ahora es un s\u00edmbolo algebr\u00e1ico\n",
      "y = symbols(\"y\")"
     ],
     "language": "python",
     "metadata": {},
     "outputs": [],
     "prompt_number": 73
    },
    {
     "cell_type": "code",
     "collapsed": false,
     "input": [
      "x*x"
     ],
     "language": "python",
     "metadata": {},
     "outputs": [
      {
       "metadata": {},
       "output_type": "pyout",
       "prompt_number": 74,
       "text": [
        " 2\n",
        "x "
       ]
      }
     ],
     "prompt_number": 74
    },
    {
     "cell_type": "code",
     "collapsed": false,
     "input": [
      "exp(x)"
     ],
     "language": "python",
     "metadata": {},
     "outputs": [
      {
       "metadata": {},
       "output_type": "pyout",
       "prompt_number": 75,
       "text": [
        " x\n",
        "\u212f "
       ]
      }
     ],
     "prompt_number": 75
    },
    {
     "cell_type": "code",
     "collapsed": false,
     "input": [
      "expr=(x+y)**2"
     ],
     "language": "python",
     "metadata": {},
     "outputs": [],
     "prompt_number": 76
    },
    {
     "cell_type": "code",
     "collapsed": false,
     "input": [
      "expr.expand()"
     ],
     "language": "python",
     "metadata": {},
     "outputs": [
      {
       "metadata": {},
       "output_type": "pyout",
       "prompt_number": 77,
       "text": [
        " 2            2\n",
        "x  + 2\u22c5x\u22c5y + y "
       ]
      }
     ],
     "prompt_number": 77
    },
    {
     "cell_type": "code",
     "collapsed": false,
     "input": [
      "factor(_)"
     ],
     "language": "python",
     "metadata": {},
     "outputs": [
      {
       "metadata": {},
       "output_type": "pyout",
       "prompt_number": 78,
       "text": [
        "       2\n",
        "(x + y) "
       ]
      }
     ],
     "prompt_number": 78
    },
    {
     "cell_type": "code",
     "collapsed": false,
     "input": [
      "s = sin(x)"
     ],
     "language": "python",
     "metadata": {},
     "outputs": [],
     "prompt_number": 79
    },
    {
     "cell_type": "code",
     "collapsed": false,
     "input": [
      "s.series(x,0,10)"
     ],
     "language": "python",
     "metadata": {},
     "outputs": [
      {
       "metadata": {},
       "output_type": "pyout",
       "prompt_number": 80,
       "text": [
        "     3     5     7       9           \n",
        "    x     x     x       x       \u239b 10\u239e\n",
        "x - \u2500\u2500 + \u2500\u2500\u2500 - \u2500\u2500\u2500\u2500 + \u2500\u2500\u2500\u2500\u2500\u2500 + O\u239dx  \u23a0\n",
        "    6    120   5040   362880         "
       ]
      }
     ],
     "prompt_number": 80
    },
    {
     "cell_type": "code",
     "collapsed": false,
     "input": [
      "s.series(x,0,11).removeO()"
     ],
     "language": "python",
     "metadata": {},
     "outputs": [
      {
       "metadata": {},
       "output_type": "pyout",
       "prompt_number": 81,
       "text": [
        "   9       7      5    3    \n",
        "  x       x      x    x     \n",
        "\u2500\u2500\u2500\u2500\u2500\u2500 - \u2500\u2500\u2500\u2500 + \u2500\u2500\u2500 - \u2500\u2500 + x\n",
        "362880   5040   120   6     "
       ]
      }
     ],
     "prompt_number": 81
    },
    {
     "cell_type": "code",
     "collapsed": false,
     "input": [
      "_.coeff(x,7)"
     ],
     "language": "python",
     "metadata": {},
     "outputs": [
      {
       "metadata": {},
       "output_type": "pyout",
       "prompt_number": 82,
       "text": [
        "-1/5040"
       ]
      }
     ],
     "prompt_number": 82
    },
    {
     "cell_type": "code",
     "collapsed": false,
     "input": [
      "Rational(0.5)"
     ],
     "language": "python",
     "metadata": {},
     "outputs": [
      {
       "metadata": {},
       "output_type": "pyout",
       "prompt_number": 83,
       "text": [
        "0"
       ]
      }
     ],
     "prompt_number": 83
    },
    {
     "cell_type": "code",
     "collapsed": false,
     "input": [
      "Rational(1,2)"
     ],
     "language": "python",
     "metadata": {},
     "outputs": [
      {
       "metadata": {},
       "output_type": "pyout",
       "prompt_number": 84,
       "text": [
        "1/2"
       ]
      }
     ],
     "prompt_number": 84
    },
    {
     "cell_type": "code",
     "collapsed": false,
     "input": [
      "integrando = x*exp(-x)"
     ],
     "language": "python",
     "metadata": {},
     "outputs": [],
     "prompt_number": 85
    },
    {
     "cell_type": "code",
     "collapsed": false,
     "input": [
      "l = Integral(integrando,x)"
     ],
     "language": "python",
     "metadata": {},
     "outputs": [],
     "prompt_number": 89
    },
    {
     "cell_type": "code",
     "collapsed": false,
     "input": [
      "l.doit()"
     ],
     "language": "python",
     "metadata": {},
     "outputs": [
      {
       "metadata": {},
       "output_type": "pyout",
       "prompt_number": 90,
       "text": [
        "     -x    -x\n",
        "- x\u22c5\u212f   - \u212f  "
       ]
      }
     ],
     "prompt_number": 90
    },
    {
     "cell_type": "heading",
     "level": 1,
     "metadata": {},
     "source": [
      "mpmath"
     ]
    },
    {
     "cell_type": "markdown",
     "metadata": {},
     "source": [
      "Para c\u00e1lculos con precision arbitraria"
     ]
    },
    {
     "cell_type": "code",
     "collapsed": false,
     "input": [
      "from sympy import mpmath as mp"
     ],
     "language": "python",
     "metadata": {},
     "outputs": [],
     "prompt_number": 94
    },
    {
     "cell_type": "code",
     "collapsed": false,
     "input": [
      "from sympy.mpmath import *"
     ],
     "language": "python",
     "metadata": {},
     "outputs": [],
     "prompt_number": 95
    },
    {
     "cell_type": "code",
     "collapsed": false,
     "input": [
      "mp.dps #n\u00famero de decimales"
     ],
     "language": "python",
     "metadata": {},
     "outputs": [
      {
       "metadata": {},
       "output_type": "pyout",
       "prompt_number": 96,
       "text": [
        "15"
       ]
      }
     ],
     "prompt_number": 96
    },
    {
     "cell_type": "code",
     "collapsed": false,
     "input": [
      "a = mpf(\"1.0\")"
     ],
     "language": "python",
     "metadata": {},
     "outputs": [],
     "prompt_number": 99
    },
    {
     "cell_type": "code",
     "collapsed": false,
     "input": [
      "type(a)"
     ],
     "language": "python",
     "metadata": {},
     "outputs": [
      {
       "metadata": {},
       "output_type": "pyout",
       "prompt_number": 100,
       "text": [
        "sympy.mpmath.ctx_mp_python.mpf"
       ]
      }
     ],
     "prompt_number": 100
    },
    {
     "cell_type": "code",
     "collapsed": false,
     "input": [
      "print a"
     ],
     "language": "python",
     "metadata": {},
     "outputs": [
      {
       "output_type": "stream",
       "stream": "stdout",
       "text": [
        "1.0\n"
       ]
      }
     ],
     "prompt_number": 101
    },
    {
     "cell_type": "code",
     "collapsed": false,
     "input": [
      "pi"
     ],
     "language": "python",
     "metadata": {},
     "outputs": [
      {
       "metadata": {},
       "output_type": "pyout",
       "prompt_number": 102,
       "text": [
        "3.14159265358979"
       ]
      }
     ],
     "prompt_number": 102
    },
    {
     "cell_type": "code",
     "collapsed": false,
     "input": [
      "type(pi)"
     ],
     "language": "python",
     "metadata": {},
     "outputs": [
      {
       "metadata": {},
       "output_type": "pyout",
       "prompt_number": 103,
       "text": [
        "sympy.mpmath.ctx_mp_python.constant"
       ]
      }
     ],
     "prompt_number": 103
    },
    {
     "cell_type": "code",
     "collapsed": false,
     "input": [
      "nprint(pi,15) #pi a 15 decimales"
     ],
     "language": "python",
     "metadata": {},
     "outputs": [
      {
       "output_type": "stream",
       "stream": "stdout",
       "text": [
        "3.14159265358979\n"
       ]
      }
     ],
     "prompt_number": 105
    },
    {
     "cell_type": "code",
     "collapsed": false,
     "input": [
      "mp.dps = 100"
     ],
     "language": "python",
     "metadata": {},
     "outputs": [],
     "prompt_number": 106
    },
    {
     "cell_type": "code",
     "collapsed": false,
     "input": [
      "nprint(pi,100)"
     ],
     "language": "python",
     "metadata": {},
     "outputs": [
      {
       "output_type": "stream",
       "stream": "stdout",
       "text": [
        "3.141592653589793238462643383279502884197169399375105820974944592307816406286208998628034825342117068\n"
       ]
      }
     ],
     "prompt_number": 107
    },
    {
     "cell_type": "code",
     "collapsed": false,
     "input": [
      "print sqrt(2.)"
     ],
     "language": "python",
     "metadata": {},
     "outputs": [
      {
       "output_type": "stream",
       "stream": "stdout",
       "text": [
        "1.414213562373095048801688724209698078569671875376948073176679737990732478462107038850387534327641573\n"
       ]
      }
     ],
     "prompt_number": 108
    },
    {
     "cell_type": "code",
     "collapsed": false,
     "input": [
      "mp.dps = 1000"
     ],
     "language": "python",
     "metadata": {},
     "outputs": [],
     "prompt_number": 109
    },
    {
     "cell_type": "code",
     "collapsed": false,
     "input": [
      "print sqrt(2.)"
     ],
     "language": "python",
     "metadata": {},
     "outputs": [
      {
       "output_type": "stream",
       "stream": "stdout",
       "text": [
        "1.414213562373095048801688724209698078569671875376948073176679737990732478462107038850387534327641572735013846230912297024924836055850737212644121497099935831413222665927505592755799950501152782060571470109559971605970274534596862014728517418640889198609552329230484308714321450839762603627995251407989687253396546331808829640620615258352395054745750287759961729835575220337531857011354374603408498847160386899970699004815030544027790316454247823068492936918621580578463111596668713013015618568987237235288509264861249497715421833420428568606014682472077143585487415565706967765372022648544701585880162075847492265722600208558446652145839889394437092659180031138824646815708263010059485870400318648034219489727829064104507263688131373985525611732204024509122770022694112757362728049573810896750401836986836845072579936472906076299694138047565482372899718032680247442062926912485905218100445984215059112024944134172853147810580360337107730918286931471017111168391658172688941975871658215212822951848847\n"
       ]
      }
     ],
     "prompt_number": 110
    },
    {
     "cell_type": "heading",
     "level": 2,
     "metadata": {},
     "source": [
      "Tasas de convergencia"
     ]
    },
    {
     "cell_type": "markdown",
     "metadata": {},
     "source": [
      "Si tenemos una secuancia $a_{n}$ que converge a $a$ cuando $n \\to \\inf$:"
     ]
    },
    {
     "cell_type": "markdown",
     "metadata": {},
     "source": [
      "Calculamos el error $\\epsilon_{n} = a_{n} - a$ Si $a_n \\to a$, entonces $\\epsilon_{n} \\to 0$. Qu\u00e9 tan r\u00e1pido O sea, c\u00f3mo var\u00eda $\\epsilon_n$ con respecto a n cuando $n \\to ify$?"
     ]
    },
    {
     "cell_type": "markdown",
     "metadata": {},
     "source": [
      "Por ejemplo, $a_n = 1-1/n \\to 1. \\epsilon = -1/n = n^-1$"
     ]
    },
    {
     "cell_type": "code",
     "collapsed": false,
     "input": [
      "epsilon_n = a_n - 1\n",
      "plt.plot(n,epsilon_n)"
     ],
     "language": "python",
     "metadata": {},
     "outputs": [
      {
       "ename": "NameError",
       "evalue": "name 'a_n' is not defined",
       "output_type": "pyerr",
       "traceback": [
        "\u001b[0;31m---------------------------------------------------------------------------\u001b[0m\n\u001b[0;31mNameError\u001b[0m                                 Traceback (most recent call last)",
        "\u001b[0;32m<ipython-input-114-7d07425a486b>\u001b[0m in \u001b[0;36m<module>\u001b[0;34m()\u001b[0m\n\u001b[0;32m----> 1\u001b[0;31m \u001b[0mepsilon_n\u001b[0m \u001b[0;34m=\u001b[0m \u001b[0ma_n\u001b[0m \u001b[0;34m-\u001b[0m \u001b[0;36m1\u001b[0m\u001b[0;34m\u001b[0m\u001b[0m\n\u001b[0m\u001b[1;32m      2\u001b[0m \u001b[0mplt\u001b[0m\u001b[0;34m.\u001b[0m\u001b[0mplot\u001b[0m\u001b[0;34m(\u001b[0m\u001b[0mn\u001b[0m\u001b[0;34m,\u001b[0m\u001b[0mepsilon_n\u001b[0m\u001b[0;34m)\u001b[0m\u001b[0;34m\u001b[0m\u001b[0m\n",
        "\u001b[0;31mNameError\u001b[0m: name 'a_n' is not defined"
       ]
      }
     ],
     "prompt_number": 114
    },
    {
     "cell_type": "markdown",
     "metadata": {},
     "source": [
      "Si log epsilon n = alfa*log n + beta\n",
      "epsilon n = C n^alfa"
     ]
    },
    {
     "cell_type": "code",
     "collapsed": false,
     "input": [
      "plt.loglog(n, abs(epsilon_n),  'o-9)\n",
      "plt.loglog(n,n**(-3.))"
     ],
     "language": "python",
     "metadata": {},
     "outputs": []
    }
   ],
   "metadata": {}
  }
 ]
}