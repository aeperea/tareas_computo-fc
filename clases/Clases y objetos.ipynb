{
 "metadata": {
  "name": ""
 },
 "nbformat": 3,
 "nbformat_minor": 0,
 "worksheets": [
  {
   "cells": [
    {
     "cell_type": "heading",
     "level": 1,
     "metadata": {},
     "source": [
      "Intervalos como objetos"
     ]
    },
    {
     "cell_type": "code",
     "collapsed": false,
     "input": [
      "import numpy as np"
     ],
     "language": "python",
     "metadata": {},
     "outputs": [],
     "prompt_number": 1
    },
    {
     "cell_type": "markdown",
     "metadata": {},
     "source": [
      "Como escribir un intervalo?"
     ]
    },
    {
     "cell_type": "code",
     "collapsed": false,
     "input": [
      "a = (3,5)\n",
      "b = (4,6)\n",
      "\n",
      "a+b"
     ],
     "language": "python",
     "metadata": {},
     "outputs": [
      {
       "metadata": {},
       "output_type": "pyout",
       "prompt_number": 2,
       "text": [
        "(3, 5, 4, 6)"
       ]
      }
     ],
     "prompt_number": 2
    },
    {
     "cell_type": "markdown",
     "metadata": {},
     "source": [
      "Vemos que si queremos usar adici\u00f3n con intervalos no lo podemso hacer con lo que ya tenemos"
     ]
    },
    {
     "cell_type": "markdown",
     "metadata": {},
     "source": [
      "Tenemos que definir nuestro *propio* tipo de objeto: se llamar\u00e1 'intervalo'"
     ]
    },
    {
     "cell_type": "heading",
     "level": 2,
     "metadata": {},
     "source": [
      "Sintaxis de Python para definir nuevos tipos"
     ]
    },
    {
     "cell_type": "markdown",
     "metadata": {},
     "source": [
      "Tenemos que especificar cu\u00e1les propiedades internas tiene un 'Intervalo' y qu\u00e9 puede hacer; es decir la \"estructura\" de un intervalo.\n",
      "\n",
      "Vamos a definir una 'class' (\"clase de objeto\")"
     ]
    },
    {
     "cell_type": "code",
     "collapsed": false,
     "input": [
      "class Intervalo(object):\n",
      "    pass"
     ],
     "language": "python",
     "metadata": {},
     "outputs": [],
     "prompt_number": 3
    },
    {
     "cell_type": "code",
     "collapsed": false,
     "input": [
      "Intervalo"
     ],
     "language": "python",
     "metadata": {},
     "outputs": [
      {
       "metadata": {},
       "output_type": "pyout",
       "prompt_number": 4,
       "text": [
        "__main__.Intervalo"
       ]
      }
     ],
     "prompt_number": 4
    },
    {
     "cell_type": "markdown",
     "metadata": {},
     "source": [
      "Dos guiones bajos significan que es algo interno (__) y que no se tiene acceso p\u00fablicamente para cambiarlo"
     ]
    },
    {
     "cell_type": "code",
     "collapsed": false,
     "input": [
      "type(Intervalo)"
     ],
     "language": "python",
     "metadata": {},
     "outputs": [
      {
       "metadata": {},
       "output_type": "pyout",
       "prompt_number": 5,
       "text": [
        "type"
       ]
      }
     ],
     "prompt_number": 5
    },
    {
     "cell_type": "markdown",
     "metadata": {},
     "source": [
      "Crear un objeto de tipo `Intervalo`:"
     ]
    },
    {
     "cell_type": "code",
     "collapsed": false,
     "input": [
      "i = Intervalo() #crea una \"instancia\" de este tipo, es decir un objeto de este tipo"
     ],
     "language": "python",
     "metadata": {},
     "outputs": [],
     "prompt_number": 6
    },
    {
     "cell_type": "code",
     "collapsed": false,
     "input": [
      "i"
     ],
     "language": "python",
     "metadata": {},
     "outputs": [
      {
       "metadata": {},
       "output_type": "pyout",
       "prompt_number": 7,
       "text": [
        "<__main__.Intervalo at 0x10528d910>"
       ]
      }
     ],
     "prompt_number": 7
    },
    {
     "cell_type": "markdown",
     "metadata": {},
     "source": [
      "Redefinimos el objeto de `Intervalo` para darle propiedades"
     ]
    },
    {
     "cell_type": "code",
     "collapsed": false,
     "input": [
      "class Intervalo(object):\n",
      "    min = 3\n",
      "    max = 5"
     ],
     "language": "python",
     "metadata": {},
     "outputs": [],
     "prompt_number": 8
    },
    {
     "cell_type": "code",
     "collapsed": false,
     "input": [
      "i = Intervalo()"
     ],
     "language": "python",
     "metadata": {},
     "outputs": [],
     "prompt_number": 9
    },
    {
     "cell_type": "code",
     "collapsed": false,
     "input": [
      "i.min"
     ],
     "language": "python",
     "metadata": {},
     "outputs": [
      {
       "metadata": {},
       "output_type": "pyout",
       "prompt_number": 10,
       "text": [
        "3"
       ]
      }
     ],
     "prompt_number": 10
    },
    {
     "cell_type": "code",
     "collapsed": false,
     "input": [
      "i.min = 17 #es P\u00daBLICO"
     ],
     "language": "python",
     "metadata": {},
     "outputs": [],
     "prompt_number": 11
    },
    {
     "cell_type": "heading",
     "level": 2,
     "metadata": {},
     "source": [
      "Constructores"
     ]
    },
    {
     "cell_type": "markdown",
     "metadata": {},
     "source": [
      "Necesitamos una manera de dar los valroes `min` y `max`en el momento de construir un objeto. La sintaxis para construir es:"
     ]
    },
    {
     "cell_type": "code",
     "collapsed": false,
     "input": [
      "i = Intervalo(-1,1)"
     ],
     "language": "python",
     "metadata": {},
     "outputs": [
      {
       "ename": "TypeError",
       "evalue": "object() takes no parameters",
       "output_type": "pyerr",
       "traceback": [
        "\u001b[0;31m---------------------------------------------------------------------------\u001b[0m\n\u001b[0;31mTypeError\u001b[0m                                 Traceback (most recent call last)",
        "\u001b[0;32m<ipython-input-12-37936b185284>\u001b[0m in \u001b[0;36m<module>\u001b[0;34m()\u001b[0m\n\u001b[0;32m----> 1\u001b[0;31m \u001b[0mi\u001b[0m \u001b[0;34m=\u001b[0m \u001b[0mIntervalo\u001b[0m\u001b[0;34m(\u001b[0m\u001b[0;34m-\u001b[0m\u001b[0;36m1\u001b[0m\u001b[0;34m,\u001b[0m\u001b[0;36m1\u001b[0m\u001b[0;34m)\u001b[0m\u001b[0;34m\u001b[0m\u001b[0m\n\u001b[0m",
        "\u001b[0;31mTypeError\u001b[0m: object() takes no parameters"
       ]
      }
     ],
     "prompt_number": 12
    },
    {
     "cell_type": "code",
     "collapsed": false,
     "input": [
      "class Intervalo(object):\n",
      "    def __init__(self, min, max): #self quiere decir si mismo, y quiere decir que al crearse este objeto se pasa este mismo objeto a esta funci\u00f3n\n",
      "        self.min = min\n",
      "        self.max = max\n",
      "        #ponerle atributos a self quiere decir que se le est\u00e1n agregando atributos al objeto reci\u00e9n creado"
     ],
     "language": "python",
     "metadata": {},
     "outputs": []
    },
    {
     "cell_type": "code",
     "collapsed": false,
     "input": [
      "i = Intervalo(-2,1)"
     ],
     "language": "python",
     "metadata": {},
     "outputs": [
      {
       "ename": "TypeError",
       "evalue": "object() takes no parameters",
       "output_type": "pyerr",
       "traceback": [
        "\u001b[0;31m---------------------------------------------------------------------------\u001b[0m\n\u001b[0;31mTypeError\u001b[0m                                 Traceback (most recent call last)",
        "\u001b[0;32m<ipython-input-13-900b297968e2>\u001b[0m in \u001b[0;36m<module>\u001b[0;34m()\u001b[0m\n\u001b[0;32m----> 1\u001b[0;31m \u001b[0mi\u001b[0m \u001b[0;34m=\u001b[0m \u001b[0mIntervalo\u001b[0m\u001b[0;34m(\u001b[0m\u001b[0;34m-\u001b[0m\u001b[0;36m2\u001b[0m\u001b[0;34m,\u001b[0m\u001b[0;36m1\u001b[0m\u001b[0;34m)\u001b[0m\u001b[0;34m\u001b[0m\u001b[0m\n\u001b[0m",
        "\u001b[0;31mTypeError\u001b[0m: object() takes no parameters"
       ]
      }
     ],
     "prompt_number": 13
    },
    {
     "cell_type": "code",
     "collapsed": false,
     "input": [
      "i.min\n",
      "i.max"
     ],
     "language": "python",
     "metadata": {},
     "outputs": [
      {
       "metadata": {},
       "output_type": "pyout",
       "prompt_number": 14,
       "text": [
        "5"
       ]
      }
     ],
     "prompt_number": 14
    },
    {
     "cell_type": "markdown",
     "metadata": {},
     "source": [
      "C\u00f3mo podemos mandar un solo argumento que se interpreta como un intervalo en un solo punto, es decir, poner `max`= `min`?"
     ]
    },
    {
     "cell_type": "code",
     "collapsed": false,
     "input": [
      "class Intervalo(object):\n",
      "    def __init__(self, min, max=None):  #  max = None es como si fuera vac\u00edo y entonces puede recibir un valor, \n",
      "                                        #  pero si recibe 2, max no es None\n",
      "        \n",
      "        if max is None: #se usa \"is\" porque None es un void\n",
      "            max = min\n",
      "        \n",
      "        self.min = min\n",
      "        self.max = max"
     ],
     "language": "python",
     "metadata": {},
     "outputs": [],
     "prompt_number": 15
    },
    {
     "cell_type": "code",
     "collapsed": false,
     "input": [
      "i = Intervalo(2)"
     ],
     "language": "python",
     "metadata": {},
     "outputs": [],
     "prompt_number": 16
    },
    {
     "cell_type": "code",
     "collapsed": false,
     "input": [
      "i.min == i.max"
     ],
     "language": "python",
     "metadata": {},
     "outputs": [
      {
       "metadata": {},
       "output_type": "pyout",
       "prompt_number": 17,
       "text": [
        "True"
       ]
      }
     ],
     "prompt_number": 17
    },
    {
     "cell_type": "code",
     "collapsed": false,
     "input": [
      "i"
     ],
     "language": "python",
     "metadata": {},
     "outputs": [
      {
       "metadata": {},
       "output_type": "pyout",
       "prompt_number": 18,
       "text": [
        "<__main__.Intervalo at 0x10528d790>"
       ]
      }
     ],
     "prompt_number": 18
    },
    {
     "cell_type": "heading",
     "level": 3,
     "metadata": {},
     "source": [
      "Representaci\u00f3n \u00fatil"
     ]
    },
    {
     "cell_type": "code",
     "collapsed": false,
     "input": [
      "class Intervalo(object):\n",
      "    def __init__(self, min, max=None): \n",
      "        \n",
      "        if max is None:\n",
      "            max = min\n",
      "        \n",
      "        self.min = min\n",
      "        self.max = max\n",
      "    \n",
      "    def __repr__(self):   #esto permite dar informaci\u00f3n sobre el tipo de variable u objeto\n",
      "        return \"Intervalo(%s,%s)\" %(self.min, self.max) #se le pasa la dupla con %\n",
      "       # return \"Intervalo({},{})\".format(self.min,self.max) #otra manera de hacerlo\n",
      "        \n",
      "    def __str__(self):\n",
      "        return \"[{},{}]\".format(self.min, self.max)\n",
      "    \n",
      "    #Para el iPython notebook e imprimimos el objeto\n",
      "    def _repr_html_(self):\n",
      "        return \"[{},{}]\".format(self.min, self.max)\n",
      "        "
     ],
     "language": "python",
     "metadata": {},
     "outputs": [],
     "prompt_number": 19
    },
    {
     "cell_type": "code",
     "collapsed": false,
     "input": [
      "a = np.array([2,3,1])"
     ],
     "language": "python",
     "metadata": {},
     "outputs": [],
     "prompt_number": 20
    },
    {
     "cell_type": "code",
     "collapsed": false,
     "input": [
      "a.__repr__() # es la cadena cuando se usa 'a'"
     ],
     "language": "python",
     "metadata": {},
     "outputs": [
      {
       "metadata": {},
       "output_type": "pyout",
       "prompt_number": 21,
       "text": [
        "'array([2, 3, 1])'"
       ]
      }
     ],
     "prompt_number": 21
    },
    {
     "cell_type": "code",
     "collapsed": false,
     "input": [
      "a.__str__() #es la cadena de cuando se usa 'print a'"
     ],
     "language": "python",
     "metadata": {},
     "outputs": [
      {
       "metadata": {},
       "output_type": "pyout",
       "prompt_number": 22,
       "text": [
        "'[2 3 1]'"
       ]
      }
     ],
     "prompt_number": 22
    },
    {
     "cell_type": "code",
     "collapsed": false,
     "input": [
      "i = Intervalo(-2.2,1)"
     ],
     "language": "python",
     "metadata": {},
     "outputs": [],
     "prompt_number": 23
    },
    {
     "cell_type": "code",
     "collapsed": false,
     "input": [
      "i"
     ],
     "language": "python",
     "metadata": {},
     "outputs": [
      {
       "html": [
        "[-2.2,1]"
       ],
       "metadata": {},
       "output_type": "pyout",
       "prompt_number": 24,
       "text": [
        "Intervalo(-2.2,1)"
       ]
      }
     ],
     "prompt_number": 24
    },
    {
     "cell_type": "code",
     "collapsed": false,
     "input": [
      "i.min = 18.3"
     ],
     "language": "python",
     "metadata": {},
     "outputs": [],
     "prompt_number": 25
    },
    {
     "cell_type": "code",
     "collapsed": false,
     "input": [
      "type(i.min)"
     ],
     "language": "python",
     "metadata": {},
     "outputs": [
      {
       "metadata": {},
       "output_type": "pyout",
       "prompt_number": 26,
       "text": [
        "float"
       ]
      }
     ],
     "prompt_number": 26
    },
    {
     "cell_type": "code",
     "collapsed": false,
     "input": [
      "print i"
     ],
     "language": "python",
     "metadata": {},
     "outputs": [
      {
       "output_type": "stream",
       "stream": "stdout",
       "text": [
        "[18.3,1]\n"
       ]
      }
     ],
     "prompt_number": 27
    },
    {
     "cell_type": "markdown",
     "metadata": {},
     "source": [
      "Queremos cambiar el significado de `a+b` para los intervalos. Entonces cambiamos `__add__`"
     ]
    },
    {
     "cell_type": "markdown",
     "metadata": {},
     "source": [
      "Si $[a] = [\\underline{a},\\overline{a}]$ y $[b] = [\\underline{b},\\overline{b}]$ entonces $[a] + [b] = [\\underline{a} + \\underline{b},\\overline{a} + \\overline{b}]$"
     ]
    },
    {
     "cell_type": "code",
     "collapsed": false,
     "input": [
      "class Intervalo(object):\n",
      "    def __init__(self, min, max=None): \n",
      "        \n",
      "        if max is None:\n",
      "            max = min\n",
      "        \n",
      "        self.min = min\n",
      "        self.max = max\n",
      "    \n",
      "    def __repr__(self):\n",
      "        return \"Intervalo({},{})\".format(self.min,self.max) #otra manera de hacerlo\n",
      "        \n",
      "    def __str__(self):\n",
      "        return \"[{},{}]\".format(self.min, self.max)\n",
      "    \n",
      "    def _repr_html_(self):\n",
      "        return \"[{},{}]\".format(self.min, self.max)\n",
      "    \n",
      "    def __add__(self, otro):\n",
      "        return Intervalo(self.min + otro.min, self.max + otro.max) \n",
      "        # esto regresa otro intervalo producto de la suma de dos intervalos"
     ],
     "language": "python",
     "metadata": {},
     "outputs": [],
     "prompt_number": 28
    },
    {
     "cell_type": "code",
     "collapsed": false,
     "input": [
      "i = Intervalo(2,3)\n",
      "j = Intervalo(1,1)\n",
      "i + j"
     ],
     "language": "python",
     "metadata": {},
     "outputs": [
      {
       "html": [
        "[3,4]"
       ],
       "metadata": {},
       "output_type": "pyout",
       "prompt_number": 29,
       "text": [
        "Intervalo(3,4)"
       ]
      }
     ],
     "prompt_number": 29
    },
    {
     "cell_type": "markdown",
     "metadata": {},
     "source": [
      "Para dejar de agregar funciones a la clase de Intervalo *escribimos* una librer\u00eda"
     ]
    },
    {
     "cell_type": "code",
     "collapsed": false,
     "input": [
      "%%file intervalo.py\n",
      "class Intervalo(object):\n",
      "    def __init__(self, min, max=None): \n",
      "        \n",
      "        if max is None:\n",
      "            max = min\n",
      "        if min > max:\n",
      "            dummy = min\n",
      "            min = max\n",
      "            max = dummy\n",
      "        \n",
      "        self.min = min\n",
      "        self.max = max\n",
      "    \n",
      "    def __repr__(self):\n",
      "        return \"Intervalo({},{})\".format(self.min,self.max) #otra manera de hacerlo\n",
      "        \n",
      "    def __str__(self):\n",
      "        return \"[{},{}]\".format(self.min, self.max)\n",
      "    \n",
      "    def _repr_html_(self):\n",
      "        return \"[{},{}]\".format(self.min, self.max)\n",
      "    \n",
      "    def __add__(self, otro):\n",
      "        return Intervalo(self.min + otro.min, self.max + otro.max)\n",
      "    \n",
      "    def __sub__(self, otro):\n",
      "        return Intervalo(self.min - otro.max, self.max - otro.min)"
     ],
     "language": "python",
     "metadata": {},
     "outputs": [
      {
       "output_type": "stream",
       "stream": "stdout",
       "text": [
        "Overwriting intervalo.py\n"
       ]
      }
     ],
     "prompt_number": 56
    },
    {
     "cell_type": "code",
     "collapsed": false,
     "input": [
      "ls"
     ],
     "language": "python",
     "metadata": {},
     "outputs": [
      {
       "output_type": "stream",
       "stream": "stdout",
       "text": [
        "Clases y objetos.ipynb  Gr\u00e1ficas.ipynb         cuad.txt                figura_clase01.pdf      intervalo.py            intervalo.pyc\r\n"
       ]
      }
     ],
     "prompt_number": 31
    },
    {
     "cell_type": "code",
     "collapsed": false,
     "input": [
      "cat intervalo.py"
     ],
     "language": "python",
     "metadata": {},
     "outputs": [
      {
       "output_type": "stream",
       "stream": "stdout",
       "text": [
        "class Intervalo(object):\r\n",
        "    def __init__(self, min, max=None): \r\n",
        "        \r\n",
        "        if max is None:\r\n",
        "            max = min\r\n",
        "        \r\n",
        "        self.min = min\r\n",
        "        self.max = max\r\n",
        "    \r\n",
        "    def __repr__(self):\r\n",
        "        return \"Intervalo({},{})\".format(self.min,self.max) #otra manera de hacerlo\r\n",
        "        \r\n",
        "    def __str__(self):\r\n",
        "        return \"[{},{}]\".format(self.min, self.max)\r\n",
        "    \r\n",
        "    def _repr_html_(self):\r\n",
        "        return \"[{},{}]\".format(self.min, self.max)\r\n",
        "    \r\n",
        "    def __add__(self, otro):\r\n",
        "        return Intervalo(self.min + otro.min, self.max + otro.max)"
       ]
      }
     ],
     "prompt_number": 32
    },
    {
     "cell_type": "markdown",
     "metadata": {},
     "source": [
      "Ahora podemos agregar la librer\u00eda como cualqiuer otra"
     ]
    },
    {
     "cell_type": "code",
     "collapsed": false,
     "input": [
      "from intervalo import Intervalo"
     ],
     "language": "python",
     "metadata": {},
     "outputs": [],
     "prompt_number": 33
    },
    {
     "cell_type": "markdown",
     "metadata": {},
     "source": [
      "Podemos editar el archivo de intervalo.py para cambiar la descripci\u00f3n al hacer Intervalo?"
     ]
    },
    {
     "cell_type": "code",
     "collapsed": false,
     "input": [
      "%load intervalo.py \n",
      "#cargar archivo en la carpeta"
     ],
     "language": "python",
     "metadata": {},
     "outputs": [],
     "prompt_number": 57
    },
    {
     "cell_type": "code",
     "collapsed": false,
     "input": [
      "import numpy as np\n",
      "\n",
      "class Intervalo(object):\n",
      "    def __init__(self, min, max=None): \n",
      "        \n",
      "        if max is None:\n",
      "            max = min\n",
      "        if min > max:\n",
      "            dummy = min\n",
      "            min = max\n",
      "            max = dummy\n",
      "        \n",
      "        self.min = min\n",
      "        self.max = max\n",
      "    \n",
      "    def __repr__(self):\n",
      "        return \"Intervalo({},{})\".format(self.min,self.max) #otra manera de hacerlo\n",
      "        \n",
      "    def __str__(self):\n",
      "        return \"[{},{}]\".format(self.min, self.max)\n",
      "    \n",
      "    def _repr_html_(self):\n",
      "        return \"[{},{}]\".format(self.min, self.max)\n",
      "    \n",
      "    def __add__(self, otro):\n",
      "        return Intervalo(self.min + otro.min, self.max + otro.max)\n",
      "    \n",
      "    def __sub__(self, otro):\n",
      "        return Intervalo(self.min - otro.max, self.max - otro.min)\n",
      "    \n",
      "    def __mul__(self, otro):\n",
      "        a = np.min([self.min*otro.min, self.min*otro.max, self.max*otro.min, self.max*otro.max])\n",
      "        b = np.max([self.min*otro.min, self.min*otro.max, self.max*otro.min, self.max*otro.max])\n",
      "        return Intervalo(a,b)\n",
      "    \n",
      "    def __div__(self, otro):\n",
      "\t\tif otro.min <= 0 & otro.max >= 0:\n",
      "\t\t\treturn \"Error, el intervalo del denominador contiene el cero\"\n",
      "\t\telse:\n",
      "\t\t\ta = np.min([self.min/float(otro.min), self.min/float(otro.max), self.max/float(otro.min), self.max/float(otro.max)])\n",
      "\t\t\tb = np.max([self.min/float(otro.min), self.min/float(otro.max), self.max/float(otro.min), self.max/float(otro.max)])\n",
      "\t\t\treturn Intervalo(a,b)\n"
     ],
     "language": "python",
     "metadata": {},
     "outputs": [],
     "prompt_number": 100
    },
    {
     "cell_type": "code",
     "collapsed": false,
     "input": [
      "i = Intervalo(-2,1)\n",
      "j = Intervalo(-4)\n",
      "a = Intervalo(1,2)\n",
      "b = Intervalo(3,4)"
     ],
     "language": "python",
     "metadata": {},
     "outputs": [],
     "prompt_number": 105
    },
    {
     "cell_type": "code",
     "collapsed": false,
     "input": [
      "i._"
     ],
     "language": "python",
     "metadata": {},
     "outputs": [
      {
       "html": [
        "[-6,3]"
       ],
       "metadata": {},
       "output_type": "pyout",
       "prompt_number": 80,
       "text": [
        "Intervalo(-6,3)"
       ]
      }
     ],
     "prompt_number": 80
    },
    {
     "cell_type": "code",
     "collapsed": false,
     "input": [
      "i-j"
     ],
     "language": "python",
     "metadata": {},
     "outputs": [
      {
       "html": [
        "[-4,5]"
       ],
       "metadata": {},
       "output_type": "pyout",
       "prompt_number": 81,
       "text": [
        "Intervalo(-4,5)"
       ]
      }
     ],
     "prompt_number": 81
    },
    {
     "cell_type": "code",
     "collapsed": false,
     "input": [
      "i*j"
     ],
     "language": "python",
     "metadata": {},
     "outputs": [
      {
       "html": [
        "[-4,8]"
       ],
       "metadata": {},
       "output_type": "pyout",
       "prompt_number": 83,
       "text": [
        "Intervalo(-4,8)"
       ]
      }
     ],
     "prompt_number": 83
    },
    {
     "cell_type": "code",
     "collapsed": false,
     "input": [
      "i/j"
     ],
     "language": "python",
     "metadata": {},
     "outputs": [
      {
       "metadata": {},
       "output_type": "pyout",
       "prompt_number": 106,
       "text": [
        "'Error, el intervalo del denominador contiene el cero'"
       ]
      }
     ],
     "prompt_number": 106
    },
    {
     "cell_type": "code",
     "collapsed": false,
     "input": [
      "a = np.array([2,3,2,2]"
     ],
     "language": "python",
     "metadata": {},
     "outputs": [],
     "prompt_number": 85
    },
    {
     "cell_type": "code",
     "collapsed": false,
     "input": [
      "np.min([2,3,3])"
     ],
     "language": "python",
     "metadata": {},
     "outputs": [
      {
       "metadata": {},
       "output_type": "pyout",
       "prompt_number": 76,
       "text": [
        "2"
       ]
      }
     ],
     "prompt_number": 76
    },
    {
     "cell_type": "code",
     "collapsed": false,
     "input": [
      "a.__div__"
     ],
     "language": "python",
     "metadata": {},
     "outputs": [
      {
       "metadata": {},
       "output_type": "pyout",
       "prompt_number": 86,
       "text": [
        "<method-wrapper '__div__' of numpy.ndarray object at 0x105592700>"
       ]
      }
     ],
     "prompt_number": 86
    },
    {
     "cell_type": "code",
     "collapsed": false,
     "input": [
      "a.__div__"
     ],
     "language": "python",
     "metadata": {},
     "outputs": [
      {
       "ename": "AttributeError",
       "evalue": "'Intervalo' object has no attribute '__div__'",
       "output_type": "pyerr",
       "traceback": [
        "\u001b[0;31m---------------------------------------------------------------------------\u001b[0m\n\u001b[0;31mAttributeError\u001b[0m                            Traceback (most recent call last)",
        "\u001b[0;32m<ipython-input-90-3d04412387b8>\u001b[0m in \u001b[0;36m<module>\u001b[0;34m()\u001b[0m\n\u001b[0;32m----> 1\u001b[0;31m \u001b[0ma\u001b[0m\u001b[0;34m.\u001b[0m\u001b[0m__div__\u001b[0m\u001b[0;34m\u001b[0m\u001b[0m\n\u001b[0m",
        "\u001b[0;31mAttributeError\u001b[0m: 'Intervalo' object has no attribute '__div__'"
       ]
      }
     ],
     "prompt_number": 90
    },
    {
     "cell_type": "code",
     "collapsed": false,
     "input": [],
     "language": "python",
     "metadata": {},
     "outputs": []
    }
   ],
   "metadata": {}
  }
 ]
}